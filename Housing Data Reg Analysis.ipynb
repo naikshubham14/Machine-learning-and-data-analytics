{
 "cells": [
  {
   "cell_type": "markdown",
   "id": "earned-portable",
   "metadata": {},
   "source": [
    "#### In this Notebook we will be running complete data preprocessing steps on the given housing data for analysis and then we will be running a regression analysis on the processed data\n"
   ]
  },
  {
   "cell_type": "code",
   "execution_count": 1,
   "id": "signed-ordering",
   "metadata": {},
   "outputs": [
    {
     "data": {
      "text/plain": [
       "'C:\\\\Users\\\\shubh\\\\OneDrive\\\\Documents\\\\'"
      ]
     },
     "execution_count": 1,
     "metadata": {},
     "output_type": "execute_result"
    }
   ],
   "source": [
    "pwd"
   ]
  },
  {
   "cell_type": "code",
   "execution_count": 2,
   "id": "exact-monthly",
   "metadata": {},
   "outputs": [],
   "source": [
    "import numpy as np\n",
    "import pandas as pd\n",
    "import seaborn as sns"
   ]
  },
  {
   "cell_type": "code",
   "execution_count": 3,
   "id": "controlling-necessity",
   "metadata": {},
   "outputs": [],
   "source": [
    "df =  pd.read_csv(r\"C:\\Users\\shubh\\OneDrive\\Documents\\Data Files\\House_Price.csv\", header=0)"
   ]
  },
  {
   "cell_type": "markdown",
   "id": "funny-payment",
   "metadata": {},
   "source": [
    "##### Exploring the data for insights"
   ]
  },
  {
   "cell_type": "code",
   "execution_count": 4,
   "id": "located-failure",
   "metadata": {},
   "outputs": [
    {
     "data": {
      "text/html": [
       "<div>\n",
       "<style scoped>\n",
       "    .dataframe tbody tr th:only-of-type {\n",
       "        vertical-align: middle;\n",
       "    }\n",
       "\n",
       "    .dataframe tbody tr th {\n",
       "        vertical-align: top;\n",
       "    }\n",
       "\n",
       "    .dataframe thead th {\n",
       "        text-align: right;\n",
       "    }\n",
       "</style>\n",
       "<table border=\"1\" class=\"dataframe\">\n",
       "  <thead>\n",
       "    <tr style=\"text-align: right;\">\n",
       "      <th></th>\n",
       "      <th>price</th>\n",
       "      <th>crime_rate</th>\n",
       "      <th>resid_area</th>\n",
       "      <th>air_qual</th>\n",
       "      <th>room_num</th>\n",
       "      <th>age</th>\n",
       "      <th>dist1</th>\n",
       "      <th>dist2</th>\n",
       "      <th>dist3</th>\n",
       "      <th>dist4</th>\n",
       "      <th>teachers</th>\n",
       "      <th>poor_prop</th>\n",
       "      <th>airport</th>\n",
       "      <th>n_hos_beds</th>\n",
       "      <th>n_hot_rooms</th>\n",
       "      <th>waterbody</th>\n",
       "      <th>rainfall</th>\n",
       "      <th>bus_ter</th>\n",
       "      <th>parks</th>\n",
       "    </tr>\n",
       "  </thead>\n",
       "  <tbody>\n",
       "    <tr>\n",
       "      <th>0</th>\n",
       "      <td>24.0</td>\n",
       "      <td>0.00632</td>\n",
       "      <td>32.31</td>\n",
       "      <td>0.538</td>\n",
       "      <td>6.575</td>\n",
       "      <td>65.2</td>\n",
       "      <td>4.35</td>\n",
       "      <td>3.81</td>\n",
       "      <td>4.18</td>\n",
       "      <td>4.01</td>\n",
       "      <td>24.7</td>\n",
       "      <td>4.98</td>\n",
       "      <td>YES</td>\n",
       "      <td>5.480</td>\n",
       "      <td>11.1920</td>\n",
       "      <td>River</td>\n",
       "      <td>23</td>\n",
       "      <td>YES</td>\n",
       "      <td>0.049347</td>\n",
       "    </tr>\n",
       "    <tr>\n",
       "      <th>1</th>\n",
       "      <td>21.6</td>\n",
       "      <td>0.02731</td>\n",
       "      <td>37.07</td>\n",
       "      <td>0.469</td>\n",
       "      <td>6.421</td>\n",
       "      <td>78.9</td>\n",
       "      <td>4.99</td>\n",
       "      <td>4.70</td>\n",
       "      <td>5.12</td>\n",
       "      <td>5.06</td>\n",
       "      <td>22.2</td>\n",
       "      <td>9.14</td>\n",
       "      <td>NO</td>\n",
       "      <td>7.332</td>\n",
       "      <td>12.1728</td>\n",
       "      <td>Lake</td>\n",
       "      <td>42</td>\n",
       "      <td>YES</td>\n",
       "      <td>0.046146</td>\n",
       "    </tr>\n",
       "    <tr>\n",
       "      <th>2</th>\n",
       "      <td>34.7</td>\n",
       "      <td>0.02729</td>\n",
       "      <td>37.07</td>\n",
       "      <td>0.469</td>\n",
       "      <td>7.185</td>\n",
       "      <td>61.1</td>\n",
       "      <td>5.03</td>\n",
       "      <td>4.86</td>\n",
       "      <td>5.01</td>\n",
       "      <td>4.97</td>\n",
       "      <td>22.2</td>\n",
       "      <td>4.03</td>\n",
       "      <td>NO</td>\n",
       "      <td>7.394</td>\n",
       "      <td>101.1200</td>\n",
       "      <td>None</td>\n",
       "      <td>38</td>\n",
       "      <td>YES</td>\n",
       "      <td>0.045764</td>\n",
       "    </tr>\n",
       "    <tr>\n",
       "      <th>3</th>\n",
       "      <td>33.4</td>\n",
       "      <td>0.03237</td>\n",
       "      <td>32.18</td>\n",
       "      <td>0.458</td>\n",
       "      <td>6.998</td>\n",
       "      <td>45.8</td>\n",
       "      <td>6.21</td>\n",
       "      <td>5.93</td>\n",
       "      <td>6.16</td>\n",
       "      <td>5.96</td>\n",
       "      <td>21.3</td>\n",
       "      <td>2.94</td>\n",
       "      <td>YES</td>\n",
       "      <td>9.268</td>\n",
       "      <td>11.2672</td>\n",
       "      <td>Lake</td>\n",
       "      <td>45</td>\n",
       "      <td>YES</td>\n",
       "      <td>0.047151</td>\n",
       "    </tr>\n",
       "    <tr>\n",
       "      <th>4</th>\n",
       "      <td>36.2</td>\n",
       "      <td>0.06905</td>\n",
       "      <td>32.18</td>\n",
       "      <td>0.458</td>\n",
       "      <td>7.147</td>\n",
       "      <td>54.2</td>\n",
       "      <td>6.16</td>\n",
       "      <td>5.86</td>\n",
       "      <td>6.37</td>\n",
       "      <td>5.86</td>\n",
       "      <td>21.3</td>\n",
       "      <td>5.33</td>\n",
       "      <td>NO</td>\n",
       "      <td>8.824</td>\n",
       "      <td>11.2896</td>\n",
       "      <td>Lake</td>\n",
       "      <td>55</td>\n",
       "      <td>YES</td>\n",
       "      <td>0.039474</td>\n",
       "    </tr>\n",
       "  </tbody>\n",
       "</table>\n",
       "</div>"
      ],
      "text/plain": [
       "   price  crime_rate  resid_area  air_qual  room_num   age  dist1  dist2  \\\n",
       "0   24.0     0.00632       32.31     0.538     6.575  65.2   4.35   3.81   \n",
       "1   21.6     0.02731       37.07     0.469     6.421  78.9   4.99   4.70   \n",
       "2   34.7     0.02729       37.07     0.469     7.185  61.1   5.03   4.86   \n",
       "3   33.4     0.03237       32.18     0.458     6.998  45.8   6.21   5.93   \n",
       "4   36.2     0.06905       32.18     0.458     7.147  54.2   6.16   5.86   \n",
       "\n",
       "   dist3  dist4  teachers  poor_prop airport  n_hos_beds  n_hot_rooms  \\\n",
       "0   4.18   4.01      24.7       4.98     YES       5.480      11.1920   \n",
       "1   5.12   5.06      22.2       9.14      NO       7.332      12.1728   \n",
       "2   5.01   4.97      22.2       4.03      NO       7.394     101.1200   \n",
       "3   6.16   5.96      21.3       2.94     YES       9.268      11.2672   \n",
       "4   6.37   5.86      21.3       5.33      NO       8.824      11.2896   \n",
       "\n",
       "  waterbody  rainfall bus_ter     parks  \n",
       "0     River        23     YES  0.049347  \n",
       "1      Lake        42     YES  0.046146  \n",
       "2      None        38     YES  0.045764  \n",
       "3      Lake        45     YES  0.047151  \n",
       "4      Lake        55     YES  0.039474  "
      ]
     },
     "execution_count": 4,
     "metadata": {},
     "output_type": "execute_result"
    }
   ],
   "source": [
    "df.head()"
   ]
  },
  {
   "cell_type": "code",
   "execution_count": 5,
   "id": "electronic-malta",
   "metadata": {},
   "outputs": [
    {
     "data": {
      "text/plain": [
       "(506, 19)"
      ]
     },
     "execution_count": 5,
     "metadata": {},
     "output_type": "execute_result"
    }
   ],
   "source": [
    "df.shape"
   ]
  },
  {
   "cell_type": "code",
   "execution_count": 6,
   "id": "adjacent-buyer",
   "metadata": {},
   "outputs": [
    {
     "data": {
      "text/html": [
       "<div>\n",
       "<style scoped>\n",
       "    .dataframe tbody tr th:only-of-type {\n",
       "        vertical-align: middle;\n",
       "    }\n",
       "\n",
       "    .dataframe tbody tr th {\n",
       "        vertical-align: top;\n",
       "    }\n",
       "\n",
       "    .dataframe thead th {\n",
       "        text-align: right;\n",
       "    }\n",
       "</style>\n",
       "<table border=\"1\" class=\"dataframe\">\n",
       "  <thead>\n",
       "    <tr style=\"text-align: right;\">\n",
       "      <th></th>\n",
       "      <th>price</th>\n",
       "      <th>crime_rate</th>\n",
       "      <th>resid_area</th>\n",
       "      <th>air_qual</th>\n",
       "      <th>room_num</th>\n",
       "      <th>age</th>\n",
       "      <th>dist1</th>\n",
       "      <th>dist2</th>\n",
       "      <th>dist3</th>\n",
       "      <th>dist4</th>\n",
       "      <th>teachers</th>\n",
       "      <th>poor_prop</th>\n",
       "      <th>n_hos_beds</th>\n",
       "      <th>n_hot_rooms</th>\n",
       "      <th>rainfall</th>\n",
       "      <th>parks</th>\n",
       "    </tr>\n",
       "  </thead>\n",
       "  <tbody>\n",
       "    <tr>\n",
       "      <th>count</th>\n",
       "      <td>506.000000</td>\n",
       "      <td>506.000000</td>\n",
       "      <td>506.000000</td>\n",
       "      <td>506.000000</td>\n",
       "      <td>506.000000</td>\n",
       "      <td>506.000000</td>\n",
       "      <td>506.000000</td>\n",
       "      <td>506.000000</td>\n",
       "      <td>506.000000</td>\n",
       "      <td>506.000000</td>\n",
       "      <td>506.000000</td>\n",
       "      <td>506.000000</td>\n",
       "      <td>498.000000</td>\n",
       "      <td>506.000000</td>\n",
       "      <td>506.000000</td>\n",
       "      <td>506.000000</td>\n",
       "    </tr>\n",
       "    <tr>\n",
       "      <th>mean</th>\n",
       "      <td>22.528854</td>\n",
       "      <td>3.613524</td>\n",
       "      <td>41.136779</td>\n",
       "      <td>0.554695</td>\n",
       "      <td>6.284634</td>\n",
       "      <td>68.574901</td>\n",
       "      <td>3.971996</td>\n",
       "      <td>3.628775</td>\n",
       "      <td>3.960672</td>\n",
       "      <td>3.618972</td>\n",
       "      <td>21.544466</td>\n",
       "      <td>12.653063</td>\n",
       "      <td>7.899767</td>\n",
       "      <td>13.041605</td>\n",
       "      <td>39.181818</td>\n",
       "      <td>0.054454</td>\n",
       "    </tr>\n",
       "    <tr>\n",
       "      <th>std</th>\n",
       "      <td>9.182176</td>\n",
       "      <td>8.601545</td>\n",
       "      <td>6.860353</td>\n",
       "      <td>0.115878</td>\n",
       "      <td>0.702617</td>\n",
       "      <td>28.148861</td>\n",
       "      <td>2.108532</td>\n",
       "      <td>2.108580</td>\n",
       "      <td>2.119797</td>\n",
       "      <td>2.099203</td>\n",
       "      <td>2.164946</td>\n",
       "      <td>7.141062</td>\n",
       "      <td>1.476683</td>\n",
       "      <td>5.238957</td>\n",
       "      <td>12.513697</td>\n",
       "      <td>0.010632</td>\n",
       "    </tr>\n",
       "    <tr>\n",
       "      <th>min</th>\n",
       "      <td>5.000000</td>\n",
       "      <td>0.006320</td>\n",
       "      <td>30.460000</td>\n",
       "      <td>0.385000</td>\n",
       "      <td>3.561000</td>\n",
       "      <td>2.900000</td>\n",
       "      <td>1.130000</td>\n",
       "      <td>0.920000</td>\n",
       "      <td>1.150000</td>\n",
       "      <td>0.730000</td>\n",
       "      <td>18.000000</td>\n",
       "      <td>1.730000</td>\n",
       "      <td>5.268000</td>\n",
       "      <td>10.057600</td>\n",
       "      <td>3.000000</td>\n",
       "      <td>0.033292</td>\n",
       "    </tr>\n",
       "    <tr>\n",
       "      <th>25%</th>\n",
       "      <td>17.025000</td>\n",
       "      <td>0.082045</td>\n",
       "      <td>35.190000</td>\n",
       "      <td>0.449000</td>\n",
       "      <td>5.885500</td>\n",
       "      <td>45.025000</td>\n",
       "      <td>2.270000</td>\n",
       "      <td>1.940000</td>\n",
       "      <td>2.232500</td>\n",
       "      <td>1.940000</td>\n",
       "      <td>19.800000</td>\n",
       "      <td>6.950000</td>\n",
       "      <td>6.634500</td>\n",
       "      <td>11.189800</td>\n",
       "      <td>28.000000</td>\n",
       "      <td>0.046464</td>\n",
       "    </tr>\n",
       "    <tr>\n",
       "      <th>50%</th>\n",
       "      <td>21.200000</td>\n",
       "      <td>0.256510</td>\n",
       "      <td>39.690000</td>\n",
       "      <td>0.538000</td>\n",
       "      <td>6.208500</td>\n",
       "      <td>77.500000</td>\n",
       "      <td>3.385000</td>\n",
       "      <td>3.010000</td>\n",
       "      <td>3.375000</td>\n",
       "      <td>3.070000</td>\n",
       "      <td>20.950000</td>\n",
       "      <td>11.360000</td>\n",
       "      <td>7.999000</td>\n",
       "      <td>12.720000</td>\n",
       "      <td>39.000000</td>\n",
       "      <td>0.053507</td>\n",
       "    </tr>\n",
       "    <tr>\n",
       "      <th>75%</th>\n",
       "      <td>25.000000</td>\n",
       "      <td>3.677083</td>\n",
       "      <td>48.100000</td>\n",
       "      <td>0.624000</td>\n",
       "      <td>6.623500</td>\n",
       "      <td>94.075000</td>\n",
       "      <td>5.367500</td>\n",
       "      <td>4.992500</td>\n",
       "      <td>5.407500</td>\n",
       "      <td>4.985000</td>\n",
       "      <td>22.600000</td>\n",
       "      <td>16.955000</td>\n",
       "      <td>9.088000</td>\n",
       "      <td>14.170800</td>\n",
       "      <td>50.000000</td>\n",
       "      <td>0.061397</td>\n",
       "    </tr>\n",
       "    <tr>\n",
       "      <th>max</th>\n",
       "      <td>50.000000</td>\n",
       "      <td>88.976200</td>\n",
       "      <td>57.740000</td>\n",
       "      <td>0.871000</td>\n",
       "      <td>8.780000</td>\n",
       "      <td>100.000000</td>\n",
       "      <td>12.320000</td>\n",
       "      <td>11.930000</td>\n",
       "      <td>12.320000</td>\n",
       "      <td>11.940000</td>\n",
       "      <td>27.400000</td>\n",
       "      <td>37.970000</td>\n",
       "      <td>10.876000</td>\n",
       "      <td>101.120000</td>\n",
       "      <td>60.000000</td>\n",
       "      <td>0.086711</td>\n",
       "    </tr>\n",
       "  </tbody>\n",
       "</table>\n",
       "</div>"
      ],
      "text/plain": [
       "            price  crime_rate  resid_area    air_qual    room_num         age  \\\n",
       "count  506.000000  506.000000  506.000000  506.000000  506.000000  506.000000   \n",
       "mean    22.528854    3.613524   41.136779    0.554695    6.284634   68.574901   \n",
       "std      9.182176    8.601545    6.860353    0.115878    0.702617   28.148861   \n",
       "min      5.000000    0.006320   30.460000    0.385000    3.561000    2.900000   \n",
       "25%     17.025000    0.082045   35.190000    0.449000    5.885500   45.025000   \n",
       "50%     21.200000    0.256510   39.690000    0.538000    6.208500   77.500000   \n",
       "75%     25.000000    3.677083   48.100000    0.624000    6.623500   94.075000   \n",
       "max     50.000000   88.976200   57.740000    0.871000    8.780000  100.000000   \n",
       "\n",
       "            dist1       dist2       dist3       dist4    teachers   poor_prop  \\\n",
       "count  506.000000  506.000000  506.000000  506.000000  506.000000  506.000000   \n",
       "mean     3.971996    3.628775    3.960672    3.618972   21.544466   12.653063   \n",
       "std      2.108532    2.108580    2.119797    2.099203    2.164946    7.141062   \n",
       "min      1.130000    0.920000    1.150000    0.730000   18.000000    1.730000   \n",
       "25%      2.270000    1.940000    2.232500    1.940000   19.800000    6.950000   \n",
       "50%      3.385000    3.010000    3.375000    3.070000   20.950000   11.360000   \n",
       "75%      5.367500    4.992500    5.407500    4.985000   22.600000   16.955000   \n",
       "max     12.320000   11.930000   12.320000   11.940000   27.400000   37.970000   \n",
       "\n",
       "       n_hos_beds  n_hot_rooms    rainfall       parks  \n",
       "count  498.000000   506.000000  506.000000  506.000000  \n",
       "mean     7.899767    13.041605   39.181818    0.054454  \n",
       "std      1.476683     5.238957   12.513697    0.010632  \n",
       "min      5.268000    10.057600    3.000000    0.033292  \n",
       "25%      6.634500    11.189800   28.000000    0.046464  \n",
       "50%      7.999000    12.720000   39.000000    0.053507  \n",
       "75%      9.088000    14.170800   50.000000    0.061397  \n",
       "max     10.876000   101.120000   60.000000    0.086711  "
      ]
     },
     "execution_count": 6,
     "metadata": {},
     "output_type": "execute_result"
    }
   ],
   "source": [
    "df.describe()"
   ]
  },
  {
   "cell_type": "code",
   "execution_count": 7,
   "id": "julian-rubber",
   "metadata": {},
   "outputs": [
    {
     "name": "stdout",
     "output_type": "stream",
     "text": [
      "<class 'pandas.core.frame.DataFrame'>\n",
      "RangeIndex: 506 entries, 0 to 505\n",
      "Data columns (total 19 columns):\n",
      " #   Column       Non-Null Count  Dtype  \n",
      "---  ------       --------------  -----  \n",
      " 0   price        506 non-null    float64\n",
      " 1   crime_rate   506 non-null    float64\n",
      " 2   resid_area   506 non-null    float64\n",
      " 3   air_qual     506 non-null    float64\n",
      " 4   room_num     506 non-null    float64\n",
      " 5   age          506 non-null    float64\n",
      " 6   dist1        506 non-null    float64\n",
      " 7   dist2        506 non-null    float64\n",
      " 8   dist3        506 non-null    float64\n",
      " 9   dist4        506 non-null    float64\n",
      " 10  teachers     506 non-null    float64\n",
      " 11  poor_prop    506 non-null    float64\n",
      " 12  airport      506 non-null    object \n",
      " 13  n_hos_beds   498 non-null    float64\n",
      " 14  n_hot_rooms  506 non-null    float64\n",
      " 15  waterbody    506 non-null    object \n",
      " 16  rainfall     506 non-null    int64  \n",
      " 17  bus_ter      506 non-null    object \n",
      " 18  parks        506 non-null    float64\n",
      "dtypes: float64(15), int64(1), object(3)\n",
      "memory usage: 75.2+ KB\n"
     ]
    }
   ],
   "source": [
    "df.info()"
   ]
  },
  {
   "cell_type": "code",
   "execution_count": 8,
   "id": "spectacular-domain",
   "metadata": {},
   "outputs": [
    {
     "data": {
      "text/plain": [
       "<seaborn.axisgrid.JointGrid at 0x272ab623ee0>"
      ]
     },
     "execution_count": 8,
     "metadata": {},
     "output_type": "execute_result"
    },
    {
     "data": {
      "image/png": "[encoded data removed]",
      "text/plain": [
       "<Figure size 432x432 with 3 Axes>"
      ]
     },
     "metadata": {
      "needs_background": "light"
     },
     "output_type": "display_data"
    }
   ],
   "source": [
    "sns.jointplot(x='crime_rate', y='price', data=df )"
   ]
  },
  {
   "cell_type": "code",
   "execution_count": 9,
   "id": "rough-child",
   "metadata": {},
   "outputs": [
    {
     "data": {
      "text/plain": [
       "<seaborn.axisgrid.JointGrid at 0x272ab6555e0>"
      ]
     },
     "execution_count": 9,
     "metadata": {},
     "output_type": "execute_result"
    },
    {
     "data": {
      "image/png": "[encoded data removed]",
      "text/plain": [
       "<Figure size 432x432 with 3 Axes>"
      ]
     },
     "metadata": {
      "needs_background": "light"
     },
     "output_type": "display_data"
    }
   ],
   "source": [
    " sns.jointplot(x=\"n_hot_rooms\", y=\"price\", data=df)"
   ]
  },
  {
   "cell_type": "code",
   "execution_count": 10,
   "id": "through-angle",
   "metadata": {},
   "outputs": [
    {
     "data": {
      "text/plain": [
       "<seaborn.axisgrid.JointGrid at 0x272adc19e50>"
      ]
     },
     "execution_count": 10,
     "metadata": {},
     "output_type": "execute_result"
    },
    {
     "data": {
      "image/png": "[encoded data removed]",
      "text/plain": [
       "<Figure size 432x432 with 3 Axes>"
      ]
     },
     "metadata": {
      "needs_background": "light"
     },
     "output_type": "display_data"
    }
   ],
   "source": [
    "sns.jointplot(x='rainfall', y='price', data=df)"
   ]
  },
  {
   "cell_type": "code",
   "execution_count": 11,
   "id": "artificial-calgary",
   "metadata": {},
   "outputs": [
    {
     "data": {
      "text/plain": [
       "<AxesSubplot:xlabel='airport', ylabel='count'>"
      ]
     },
     "execution_count": 11,
     "metadata": {},
     "output_type": "execute_result"
    },
    {
     "data": {
      "image/png": "[encoded data removed]",
      "text/plain": [
       "<Figure size 432x288 with 1 Axes>"
      ]
     },
     "metadata": {
      "needs_background": "light"
     },
     "output_type": "display_data"
    }
   ],
   "source": [
    "sns.countplot(x='airport', data=df)"
   ]
  },
  {
   "cell_type": "code",
   "execution_count": 12,
   "id": "collectible-surveillance",
   "metadata": {},
   "outputs": [
    {
     "data": {
      "text/plain": [
       "<AxesSubplot:xlabel='waterbody', ylabel='count'>"
      ]
     },
     "execution_count": 12,
     "metadata": {},
     "output_type": "execute_result"
    },
    {
     "data": {
      "image/png": "[encoded data removed]",
      "text/plain": [
       "<Figure size 432x288 with 1 Axes>"
      ]
     },
     "metadata": {
      "needs_background": "light"
     },
     "output_type": "display_data"
    }
   ],
   "source": [
    "sns.countplot(x='waterbody', data=df)"
   ]
  },
  {
   "cell_type": "code",
   "execution_count": 13,
   "id": "fewer-chester",
   "metadata": {},
   "outputs": [
    {
     "data": {
      "text/plain": [
       "<AxesSubplot:xlabel='bus_ter', ylabel='count'>"
      ]
     },
     "execution_count": 13,
     "metadata": {},
     "output_type": "execute_result"
    },
    {
     "data": {
      "image/png": "[encoded data removed]",
      "text/plain": [
       "<Figure size 432x288 with 1 Axes>"
      ]
     },
     "metadata": {
      "needs_background": "light"
     },
     "output_type": "display_data"
    }
   ],
   "source": [
    "sns.countplot(x='bus_ter', data=df)"
   ]
  },
  {
   "cell_type": "markdown",
   "id": "apart-affiliate",
   "metadata": {},
   "source": [
    "1. Missing value in n_hot_rooms\n",
    "2. Outliers in crime rate\n",
    "3. Outlier in rainfall & in n_hot_rooms\n",
    "4. bus_ter takes only one value ie. not impactful\n",
    "5. crime rate values are skewed"
   ]
  },
  {
   "cell_type": "markdown",
   "id": "assigned-stylus",
   "metadata": {},
   "source": [
    "##### Detecting and Dealing with Outlier Datapoints\n",
    "\n",
    "* For all the values greater than 99 percentile capped at 3 x median.\n",
    "* For all the values lesser than 1 percentile capped at 0.3 x median."
   ]
  },
  {
   "cell_type": "code",
   "execution_count": 14,
   "id": "surprising-respect",
   "metadata": {},
   "outputs": [
    {
     "data": {
      "text/plain": [
       "15.39952"
      ]
     },
     "execution_count": 14,
     "metadata": {},
     "output_type": "execute_result"
    }
   ],
   "source": [
    "np.percentile(df.n_hot_rooms, [99])[0]"
   ]
  },
  {
   "cell_type": "code",
   "execution_count": 15,
   "id": "honest-parent",
   "metadata": {},
   "outputs": [],
   "source": [
    "uv = np.percentile(df.n_hot_rooms, [99])[0]"
   ]
  },
  {
   "cell_type": "code",
   "execution_count": 16,
   "id": "later-johnson",
   "metadata": {},
   "outputs": [
    {
     "data": {
      "text/html": [
       "<div>\n",
       "<style scoped>\n",
       "    .dataframe tbody tr th:only-of-type {\n",
       "        vertical-align: middle;\n",
       "    }\n",
       "\n",
       "    .dataframe tbody tr th {\n",
       "        vertical-align: top;\n",
       "    }\n",
       "\n",
       "    .dataframe thead th {\n",
       "        text-align: right;\n",
       "    }\n",
       "</style>\n",
       "<table border=\"1\" class=\"dataframe\">\n",
       "  <thead>\n",
       "    <tr style=\"text-align: right;\">\n",
       "      <th></th>\n",
       "      <th>price</th>\n",
       "      <th>crime_rate</th>\n",
       "      <th>resid_area</th>\n",
       "      <th>air_qual</th>\n",
       "      <th>room_num</th>\n",
       "      <th>age</th>\n",
       "      <th>dist1</th>\n",
       "      <th>dist2</th>\n",
       "      <th>dist3</th>\n",
       "      <th>dist4</th>\n",
       "      <th>teachers</th>\n",
       "      <th>poor_prop</th>\n",
       "      <th>airport</th>\n",
       "      <th>n_hos_beds</th>\n",
       "      <th>n_hot_rooms</th>\n",
       "      <th>waterbody</th>\n",
       "      <th>rainfall</th>\n",
       "      <th>bus_ter</th>\n",
       "      <th>parks</th>\n",
       "    </tr>\n",
       "  </thead>\n",
       "  <tbody>\n",
       "    <tr>\n",
       "      <th>2</th>\n",
       "      <td>34.7</td>\n",
       "      <td>0.02729</td>\n",
       "      <td>37.07</td>\n",
       "      <td>0.4690</td>\n",
       "      <td>7.185</td>\n",
       "      <td>61.1</td>\n",
       "      <td>5.03</td>\n",
       "      <td>4.86</td>\n",
       "      <td>5.01</td>\n",
       "      <td>4.97</td>\n",
       "      <td>22.2</td>\n",
       "      <td>4.03</td>\n",
       "      <td>NO</td>\n",
       "      <td>7.394</td>\n",
       "      <td>101.12</td>\n",
       "      <td>None</td>\n",
       "      <td>38</td>\n",
       "      <td>YES</td>\n",
       "      <td>0.045764</td>\n",
       "    </tr>\n",
       "    <tr>\n",
       "      <th>166</th>\n",
       "      <td>50.0</td>\n",
       "      <td>2.01019</td>\n",
       "      <td>49.58</td>\n",
       "      <td>0.6050</td>\n",
       "      <td>7.929</td>\n",
       "      <td>96.2</td>\n",
       "      <td>2.11</td>\n",
       "      <td>1.91</td>\n",
       "      <td>2.31</td>\n",
       "      <td>1.86</td>\n",
       "      <td>25.3</td>\n",
       "      <td>3.70</td>\n",
       "      <td>YES</td>\n",
       "      <td>8.300</td>\n",
       "      <td>15.40</td>\n",
       "      <td>River</td>\n",
       "      <td>37</td>\n",
       "      <td>YES</td>\n",
       "      <td>0.052105</td>\n",
       "    </tr>\n",
       "    <tr>\n",
       "      <th>204</th>\n",
       "      <td>50.0</td>\n",
       "      <td>0.02009</td>\n",
       "      <td>32.68</td>\n",
       "      <td>0.4161</td>\n",
       "      <td>8.034</td>\n",
       "      <td>31.9</td>\n",
       "      <td>5.41</td>\n",
       "      <td>4.80</td>\n",
       "      <td>5.28</td>\n",
       "      <td>4.99</td>\n",
       "      <td>25.3</td>\n",
       "      <td>2.88</td>\n",
       "      <td>YES</td>\n",
       "      <td>8.900</td>\n",
       "      <td>15.40</td>\n",
       "      <td>River</td>\n",
       "      <td>51</td>\n",
       "      <td>YES</td>\n",
       "      <td>0.044178</td>\n",
       "    </tr>\n",
       "    <tr>\n",
       "      <th>267</th>\n",
       "      <td>50.0</td>\n",
       "      <td>0.57834</td>\n",
       "      <td>33.97</td>\n",
       "      <td>0.5750</td>\n",
       "      <td>8.297</td>\n",
       "      <td>67.0</td>\n",
       "      <td>2.60</td>\n",
       "      <td>2.13</td>\n",
       "      <td>2.43</td>\n",
       "      <td>2.52</td>\n",
       "      <td>27.0</td>\n",
       "      <td>7.44</td>\n",
       "      <td>YES</td>\n",
       "      <td>8.000</td>\n",
       "      <td>15.40</td>\n",
       "      <td>None</td>\n",
       "      <td>42</td>\n",
       "      <td>YES</td>\n",
       "      <td>0.063235</td>\n",
       "    </tr>\n",
       "    <tr>\n",
       "      <th>369</th>\n",
       "      <td>50.0</td>\n",
       "      <td>5.66998</td>\n",
       "      <td>48.10</td>\n",
       "      <td>0.6310</td>\n",
       "      <td>6.683</td>\n",
       "      <td>96.8</td>\n",
       "      <td>1.55</td>\n",
       "      <td>1.28</td>\n",
       "      <td>1.65</td>\n",
       "      <td>0.94</td>\n",
       "      <td>19.8</td>\n",
       "      <td>3.73</td>\n",
       "      <td>YES</td>\n",
       "      <td>6.700</td>\n",
       "      <td>15.40</td>\n",
       "      <td>River</td>\n",
       "      <td>58</td>\n",
       "      <td>YES</td>\n",
       "      <td>0.067477</td>\n",
       "    </tr>\n",
       "    <tr>\n",
       "      <th>423</th>\n",
       "      <td>13.4</td>\n",
       "      <td>7.05042</td>\n",
       "      <td>48.10</td>\n",
       "      <td>0.6140</td>\n",
       "      <td>6.103</td>\n",
       "      <td>85.1</td>\n",
       "      <td>2.08</td>\n",
       "      <td>1.80</td>\n",
       "      <td>2.34</td>\n",
       "      <td>1.87</td>\n",
       "      <td>19.8</td>\n",
       "      <td>23.29</td>\n",
       "      <td>NO</td>\n",
       "      <td>8.268</td>\n",
       "      <td>81.12</td>\n",
       "      <td>Lake</td>\n",
       "      <td>29</td>\n",
       "      <td>YES</td>\n",
       "      <td>0.063344</td>\n",
       "    </tr>\n",
       "  </tbody>\n",
       "</table>\n",
       "</div>"
      ],
      "text/plain": [
       "     price  crime_rate  resid_area  air_qual  room_num   age  dist1  dist2  \\\n",
       "2     34.7     0.02729       37.07    0.4690     7.185  61.1   5.03   4.86   \n",
       "166   50.0     2.01019       49.58    0.6050     7.929  96.2   2.11   1.91   \n",
       "204   50.0     0.02009       32.68    0.4161     8.034  31.9   5.41   4.80   \n",
       "267   50.0     0.57834       33.97    0.5750     8.297  67.0   2.60   2.13   \n",
       "369   50.0     5.66998       48.10    0.6310     6.683  96.8   1.55   1.28   \n",
       "423   13.4     7.05042       48.10    0.6140     6.103  85.1   2.08   1.80   \n",
       "\n",
       "     dist3  dist4  teachers  poor_prop airport  n_hos_beds  n_hot_rooms  \\\n",
       "2     5.01   4.97      22.2       4.03      NO       7.394       101.12   \n",
       "166   2.31   1.86      25.3       3.70     YES       8.300        15.40   \n",
       "204   5.28   4.99      25.3       2.88     YES       8.900        15.40   \n",
       "267   2.43   2.52      27.0       7.44     YES       8.000        15.40   \n",
       "369   1.65   0.94      19.8       3.73     YES       6.700        15.40   \n",
       "423   2.34   1.87      19.8      23.29      NO       8.268        81.12   \n",
       "\n",
       "    waterbody  rainfall bus_ter     parks  \n",
       "2        None        38     YES  0.045764  \n",
       "166     River        37     YES  0.052105  \n",
       "204     River        51     YES  0.044178  \n",
       "267      None        42     YES  0.063235  \n",
       "369     River        58     YES  0.067477  \n",
       "423      Lake        29     YES  0.063344  "
      ]
     },
     "execution_count": 16,
     "metadata": {},
     "output_type": "execute_result"
    }
   ],
   "source": [
    "df[(df.n_hot_rooms>uv)]"
   ]
  },
  {
   "cell_type": "code",
   "execution_count": 17,
   "id": "decreased-convertible",
   "metadata": {},
   "outputs": [
    {
     "name": "stderr",
     "output_type": "stream",
     "text": [
      "<ipython-input-17-7716cc877e49>:1: SettingWithCopyWarning: \n",
      "A value is trying to be set on a copy of a slice from a DataFrame\n",
      "\n",
      "See the caveats in the documentation: https://pandas.pydata.org/pandas-docs/stable/user_guide/indexing.html#returning-a-view-versus-a-copy\n",
      "  df.n_hot_rooms[(df.n_hot_rooms>3*uv)]=3*uv\n"
     ]
    }
   ],
   "source": [
    "df.n_hot_rooms[(df.n_hot_rooms>3*uv)]=3*uv"
   ]
  },
  {
   "cell_type": "code",
   "execution_count": 18,
   "id": "varying-vegetation",
   "metadata": {},
   "outputs": [
    {
     "data": {
      "text/plain": [
       "60.0"
      ]
     },
     "execution_count": 18,
     "metadata": {},
     "output_type": "execute_result"
    }
   ],
   "source": [
    "np.percentile(df.rainfall, [99])[0]"
   ]
  },
  {
   "cell_type": "code",
   "execution_count": 19,
   "id": "alpha-sending",
   "metadata": {},
   "outputs": [],
   "source": [
    "lv=np.percentile(df.rainfall, [1])[0]"
   ]
  },
  {
   "cell_type": "code",
   "execution_count": 20,
   "id": "manual-saying",
   "metadata": {},
   "outputs": [
    {
     "data": {
      "text/html": [
       "<div>\n",
       "<style scoped>\n",
       "    .dataframe tbody tr th:only-of-type {\n",
       "        vertical-align: middle;\n",
       "    }\n",
       "\n",
       "    .dataframe tbody tr th {\n",
       "        vertical-align: top;\n",
       "    }\n",
       "\n",
       "    .dataframe thead th {\n",
       "        text-align: right;\n",
       "    }\n",
       "</style>\n",
       "<table border=\"1\" class=\"dataframe\">\n",
       "  <thead>\n",
       "    <tr style=\"text-align: right;\">\n",
       "      <th></th>\n",
       "      <th>price</th>\n",
       "      <th>crime_rate</th>\n",
       "      <th>resid_area</th>\n",
       "      <th>air_qual</th>\n",
       "      <th>room_num</th>\n",
       "      <th>age</th>\n",
       "      <th>dist1</th>\n",
       "      <th>dist2</th>\n",
       "      <th>dist3</th>\n",
       "      <th>dist4</th>\n",
       "      <th>teachers</th>\n",
       "      <th>poor_prop</th>\n",
       "      <th>airport</th>\n",
       "      <th>n_hos_beds</th>\n",
       "      <th>n_hot_rooms</th>\n",
       "      <th>waterbody</th>\n",
       "      <th>rainfall</th>\n",
       "      <th>bus_ter</th>\n",
       "      <th>parks</th>\n",
       "    </tr>\n",
       "  </thead>\n",
       "  <tbody>\n",
       "    <tr>\n",
       "      <th>213</th>\n",
       "      <td>28.1</td>\n",
       "      <td>0.14052</td>\n",
       "      <td>40.59</td>\n",
       "      <td>0.489</td>\n",
       "      <td>6.375</td>\n",
       "      <td>32.3</td>\n",
       "      <td>4.11</td>\n",
       "      <td>3.92</td>\n",
       "      <td>4.18</td>\n",
       "      <td>3.57</td>\n",
       "      <td>21.4</td>\n",
       "      <td>9.38</td>\n",
       "      <td>YES</td>\n",
       "      <td>7.562</td>\n",
       "      <td>10.2248</td>\n",
       "      <td>None</td>\n",
       "      <td>3</td>\n",
       "      <td>YES</td>\n",
       "      <td>0.044019</td>\n",
       "    </tr>\n",
       "  </tbody>\n",
       "</table>\n",
       "</div>"
      ],
      "text/plain": [
       "     price  crime_rate  resid_area  air_qual  room_num   age  dist1  dist2  \\\n",
       "213   28.1     0.14052       40.59     0.489     6.375  32.3   4.11   3.92   \n",
       "\n",
       "     dist3  dist4  teachers  poor_prop airport  n_hos_beds  n_hot_rooms  \\\n",
       "213   4.18   3.57      21.4       9.38     YES       7.562      10.2248   \n",
       "\n",
       "    waterbody  rainfall bus_ter     parks  \n",
       "213      None         3     YES  0.044019  "
      ]
     },
     "execution_count": 20,
     "metadata": {},
     "output_type": "execute_result"
    }
   ],
   "source": [
    "df[(df.rainfall<lv)]"
   ]
  },
  {
   "cell_type": "code",
   "execution_count": 21,
   "id": "tamil-haven",
   "metadata": {},
   "outputs": [
    {
     "name": "stderr",
     "output_type": "stream",
     "text": [
      "<ipython-input-21-3133273e85f5>:1: SettingWithCopyWarning: \n",
      "A value is trying to be set on a copy of a slice from a DataFrame\n",
      "\n",
      "See the caveats in the documentation: https://pandas.pydata.org/pandas-docs/stable/user_guide/indexing.html#returning-a-view-versus-a-copy\n",
      "  df.rainfall[(df.rainfall<0.3*lv)]=0.3*lv\n"
     ]
    }
   ],
   "source": [
    "df.rainfall[(df.rainfall<0.3*lv)]=0.3*lv"
   ]
  },
  {
   "cell_type": "code",
   "execution_count": 22,
   "id": "electoral-departure",
   "metadata": {},
   "outputs": [],
   "source": [
    "df.n_hos_beds = df.n_hos_beds.fillna(df.n_hos_beds.mean())"
   ]
  },
  {
   "cell_type": "markdown",
   "id": "absolute-sellers",
   "metadata": {},
   "source": [
    "* ##### Tranforming the variables & Bi-variate analysis"
   ]
  },
  {
   "cell_type": "markdown",
   "id": "statutory-diploma",
   "metadata": {},
   "source": [
    "1. Dealing with the crime rate variable.\n",
    "    since the plot shows exponential characteristics we will take log of all values to convert it into linear distribution"
   ]
  },
  {
   "cell_type": "code",
   "execution_count": 23,
   "id": "therapeutic-teaching",
   "metadata": {},
   "outputs": [
    {
     "data": {
      "text/plain": [
       "<seaborn.axisgrid.JointGrid at 0x272ab623bb0>"
      ]
     },
     "execution_count": 23,
     "metadata": {},
     "output_type": "execute_result"
    },
    {
     "data": {
      "image/png": "[encoded data removed]",
      "text/plain": [
       "<Figure size 432x432 with 3 Axes>"
      ]
     },
     "metadata": {
      "needs_background": "light"
     },
     "output_type": "display_data"
    }
   ],
   "source": [
    " sns.jointplot(x=\"crime_rate\", y=\"price\", data=df)"
   ]
  },
  {
   "cell_type": "code",
   "execution_count": 24,
   "id": "logical-lighter",
   "metadata": {},
   "outputs": [],
   "source": [
    "df.crime_rate = np.log(1+df.crime_rate)"
   ]
  },
  {
   "cell_type": "code",
   "execution_count": 25,
   "id": "exposed-hughes",
   "metadata": {},
   "outputs": [
    {
     "data": {
      "text/plain": [
       "<seaborn.axisgrid.JointGrid at 0x272adefe7c0>"
      ]
     },
     "execution_count": 25,
     "metadata": {},
     "output_type": "execute_result"
    },
    {
     "data": {
      "image/png": "[encoded data removed]",
      "text/plain": [
       "<Figure size 432x432 with 3 Axes>"
      ]
     },
     "metadata": {
      "needs_background": "light"
     },
     "output_type": "display_data"
    }
   ],
   "source": [
    " sns.jointplot(x=\"crime_rate\", y=\"price\", data=df)"
   ]
  },
  {
   "cell_type": "markdown",
   "id": "third-vegetarian",
   "metadata": {},
   "source": [
    "2. Dealing with Dist variable.\n",
    "    Since there are 4 variable showing distances from employemnt hub & all of them are affecting price in similar way so we calculate their average and subsitute that value insted of 4 differnt values. Same can be done with replacing the \n",
    "    values with minimum value or maximum value"
   ]
  },
  {
   "cell_type": "code",
   "execution_count": 26,
   "id": "partial-contrary",
   "metadata": {},
   "outputs": [],
   "source": [
    "df['avg_dist']= (df.dist1+df.dist2+df.dist3+df.dist4)/4"
   ]
  },
  {
   "cell_type": "code",
   "execution_count": 27,
   "id": "related-laugh",
   "metadata": {},
   "outputs": [
    {
     "data": {
      "text/html": [
       "<div>\n",
       "<style scoped>\n",
       "    .dataframe tbody tr th:only-of-type {\n",
       "        vertical-align: middle;\n",
       "    }\n",
       "\n",
       "    .dataframe tbody tr th {\n",
       "        vertical-align: top;\n",
       "    }\n",
       "\n",
       "    .dataframe thead th {\n",
       "        text-align: right;\n",
       "    }\n",
       "</style>\n",
       "<table border=\"1\" class=\"dataframe\">\n",
       "  <thead>\n",
       "    <tr style=\"text-align: right;\">\n",
       "      <th></th>\n",
       "      <th>price</th>\n",
       "      <th>crime_rate</th>\n",
       "      <th>resid_area</th>\n",
       "      <th>air_qual</th>\n",
       "      <th>room_num</th>\n",
       "      <th>age</th>\n",
       "      <th>dist1</th>\n",
       "      <th>dist2</th>\n",
       "      <th>dist3</th>\n",
       "      <th>dist4</th>\n",
       "      <th>teachers</th>\n",
       "      <th>poor_prop</th>\n",
       "      <th>n_hos_beds</th>\n",
       "      <th>n_hot_rooms</th>\n",
       "      <th>rainfall</th>\n",
       "      <th>parks</th>\n",
       "      <th>avg_dist</th>\n",
       "    </tr>\n",
       "  </thead>\n",
       "  <tbody>\n",
       "    <tr>\n",
       "      <th>count</th>\n",
       "      <td>506.000000</td>\n",
       "      <td>506.000000</td>\n",
       "      <td>506.000000</td>\n",
       "      <td>506.000000</td>\n",
       "      <td>506.000000</td>\n",
       "      <td>506.000000</td>\n",
       "      <td>506.000000</td>\n",
       "      <td>506.000000</td>\n",
       "      <td>506.000000</td>\n",
       "      <td>506.000000</td>\n",
       "      <td>506.000000</td>\n",
       "      <td>506.000000</td>\n",
       "      <td>506.000000</td>\n",
       "      <td>506.000000</td>\n",
       "      <td>506.000000</td>\n",
       "      <td>506.000000</td>\n",
       "      <td>506.000000</td>\n",
       "    </tr>\n",
       "    <tr>\n",
       "      <th>mean</th>\n",
       "      <td>22.528854</td>\n",
       "      <td>0.813418</td>\n",
       "      <td>41.136779</td>\n",
       "      <td>0.554695</td>\n",
       "      <td>6.284634</td>\n",
       "      <td>68.574901</td>\n",
       "      <td>3.971996</td>\n",
       "      <td>3.628775</td>\n",
       "      <td>3.960672</td>\n",
       "      <td>3.618972</td>\n",
       "      <td>21.544466</td>\n",
       "      <td>12.653063</td>\n",
       "      <td>7.899767</td>\n",
       "      <td>12.864050</td>\n",
       "      <td>39.187747</td>\n",
       "      <td>0.054454</td>\n",
       "      <td>3.795104</td>\n",
       "    </tr>\n",
       "    <tr>\n",
       "      <th>std</th>\n",
       "      <td>9.182176</td>\n",
       "      <td>1.022731</td>\n",
       "      <td>6.860353</td>\n",
       "      <td>0.115878</td>\n",
       "      <td>0.702617</td>\n",
       "      <td>28.148861</td>\n",
       "      <td>2.108532</td>\n",
       "      <td>2.108580</td>\n",
       "      <td>2.119797</td>\n",
       "      <td>2.099203</td>\n",
       "      <td>2.164946</td>\n",
       "      <td>7.141062</td>\n",
       "      <td>1.464939</td>\n",
       "      <td>2.688778</td>\n",
       "      <td>12.497221</td>\n",
       "      <td>0.010632</td>\n",
       "      <td>2.105859</td>\n",
       "    </tr>\n",
       "    <tr>\n",
       "      <th>min</th>\n",
       "      <td>5.000000</td>\n",
       "      <td>0.006300</td>\n",
       "      <td>30.460000</td>\n",
       "      <td>0.385000</td>\n",
       "      <td>3.561000</td>\n",
       "      <td>2.900000</td>\n",
       "      <td>1.130000</td>\n",
       "      <td>0.920000</td>\n",
       "      <td>1.150000</td>\n",
       "      <td>0.730000</td>\n",
       "      <td>18.000000</td>\n",
       "      <td>1.730000</td>\n",
       "      <td>5.268000</td>\n",
       "      <td>10.057600</td>\n",
       "      <td>6.000000</td>\n",
       "      <td>0.033292</td>\n",
       "      <td>1.127500</td>\n",
       "    </tr>\n",
       "    <tr>\n",
       "      <th>25%</th>\n",
       "      <td>17.025000</td>\n",
       "      <td>0.078853</td>\n",
       "      <td>35.190000</td>\n",
       "      <td>0.449000</td>\n",
       "      <td>5.885500</td>\n",
       "      <td>45.025000</td>\n",
       "      <td>2.270000</td>\n",
       "      <td>1.940000</td>\n",
       "      <td>2.232500</td>\n",
       "      <td>1.940000</td>\n",
       "      <td>19.800000</td>\n",
       "      <td>6.950000</td>\n",
       "      <td>6.659000</td>\n",
       "      <td>11.189800</td>\n",
       "      <td>28.000000</td>\n",
       "      <td>0.046464</td>\n",
       "      <td>2.100625</td>\n",
       "    </tr>\n",
       "    <tr>\n",
       "      <th>50%</th>\n",
       "      <td>21.200000</td>\n",
       "      <td>0.228336</td>\n",
       "      <td>39.690000</td>\n",
       "      <td>0.538000</td>\n",
       "      <td>6.208500</td>\n",
       "      <td>77.500000</td>\n",
       "      <td>3.385000</td>\n",
       "      <td>3.010000</td>\n",
       "      <td>3.375000</td>\n",
       "      <td>3.070000</td>\n",
       "      <td>20.950000</td>\n",
       "      <td>11.360000</td>\n",
       "      <td>7.963000</td>\n",
       "      <td>12.720000</td>\n",
       "      <td>39.000000</td>\n",
       "      <td>0.053507</td>\n",
       "      <td>3.207500</td>\n",
       "    </tr>\n",
       "    <tr>\n",
       "      <th>75%</th>\n",
       "      <td>25.000000</td>\n",
       "      <td>1.542674</td>\n",
       "      <td>48.100000</td>\n",
       "      <td>0.624000</td>\n",
       "      <td>6.623500</td>\n",
       "      <td>94.075000</td>\n",
       "      <td>5.367500</td>\n",
       "      <td>4.992500</td>\n",
       "      <td>5.407500</td>\n",
       "      <td>4.985000</td>\n",
       "      <td>22.600000</td>\n",
       "      <td>16.955000</td>\n",
       "      <td>9.076000</td>\n",
       "      <td>14.170800</td>\n",
       "      <td>50.000000</td>\n",
       "      <td>0.061397</td>\n",
       "      <td>5.187500</td>\n",
       "    </tr>\n",
       "    <tr>\n",
       "      <th>max</th>\n",
       "      <td>50.000000</td>\n",
       "      <td>4.499545</td>\n",
       "      <td>57.740000</td>\n",
       "      <td>0.871000</td>\n",
       "      <td>8.780000</td>\n",
       "      <td>100.000000</td>\n",
       "      <td>12.320000</td>\n",
       "      <td>11.930000</td>\n",
       "      <td>12.320000</td>\n",
       "      <td>11.940000</td>\n",
       "      <td>27.400000</td>\n",
       "      <td>37.970000</td>\n",
       "      <td>10.876000</td>\n",
       "      <td>46.198560</td>\n",
       "      <td>60.000000</td>\n",
       "      <td>0.086711</td>\n",
       "      <td>12.127500</td>\n",
       "    </tr>\n",
       "  </tbody>\n",
       "</table>\n",
       "</div>"
      ],
      "text/plain": [
       "            price  crime_rate  resid_area    air_qual    room_num         age  \\\n",
       "count  506.000000  506.000000  506.000000  506.000000  506.000000  506.000000   \n",
       "mean    22.528854    0.813418   41.136779    0.554695    6.284634   68.574901   \n",
       "std      9.182176    1.022731    6.860353    0.115878    0.702617   28.148861   \n",
       "min      5.000000    0.006300   30.460000    0.385000    3.561000    2.900000   \n",
       "25%     17.025000    0.078853   35.190000    0.449000    5.885500   45.025000   \n",
       "50%     21.200000    0.228336   39.690000    0.538000    6.208500   77.500000   \n",
       "75%     25.000000    1.542674   48.100000    0.624000    6.623500   94.075000   \n",
       "max     50.000000    4.499545   57.740000    0.871000    8.780000  100.000000   \n",
       "\n",
       "            dist1       dist2       dist3       dist4    teachers   poor_prop  \\\n",
       "count  506.000000  506.000000  506.000000  506.000000  506.000000  506.000000   \n",
       "mean     3.971996    3.628775    3.960672    3.618972   21.544466   12.653063   \n",
       "std      2.108532    2.108580    2.119797    2.099203    2.164946    7.141062   \n",
       "min      1.130000    0.920000    1.150000    0.730000   18.000000    1.730000   \n",
       "25%      2.270000    1.940000    2.232500    1.940000   19.800000    6.950000   \n",
       "50%      3.385000    3.010000    3.375000    3.070000   20.950000   11.360000   \n",
       "75%      5.367500    4.992500    5.407500    4.985000   22.600000   16.955000   \n",
       "max     12.320000   11.930000   12.320000   11.940000   27.400000   37.970000   \n",
       "\n",
       "       n_hos_beds  n_hot_rooms    rainfall       parks    avg_dist  \n",
       "count  506.000000   506.000000  506.000000  506.000000  506.000000  \n",
       "mean     7.899767    12.864050   39.187747    0.054454    3.795104  \n",
       "std      1.464939     2.688778   12.497221    0.010632    2.105859  \n",
       "min      5.268000    10.057600    6.000000    0.033292    1.127500  \n",
       "25%      6.659000    11.189800   28.000000    0.046464    2.100625  \n",
       "50%      7.963000    12.720000   39.000000    0.053507    3.207500  \n",
       "75%      9.076000    14.170800   50.000000    0.061397    5.187500  \n",
       "max     10.876000    46.198560   60.000000    0.086711   12.127500  "
      ]
     },
     "execution_count": 27,
     "metadata": {},
     "output_type": "execute_result"
    }
   ],
   "source": [
    "df.describe()"
   ]
  },
  {
   "cell_type": "code",
   "execution_count": 28,
   "id": "spoken-collaboration",
   "metadata": {},
   "outputs": [],
   "source": [
    "del df['dist1']"
   ]
  },
  {
   "cell_type": "code",
   "execution_count": 29,
   "id": "corresponding-contribution",
   "metadata": {},
   "outputs": [],
   "source": [
    "del df['dist2']"
   ]
  },
  {
   "cell_type": "code",
   "execution_count": 30,
   "id": "alike-composite",
   "metadata": {},
   "outputs": [],
   "source": [
    "del df['dist3']"
   ]
  },
  {
   "cell_type": "code",
   "execution_count": 31,
   "id": "urban-tamil",
   "metadata": {},
   "outputs": [],
   "source": [
    "del df['dist4']"
   ]
  },
  {
   "cell_type": "code",
   "execution_count": 32,
   "id": "minus-fault",
   "metadata": {},
   "outputs": [],
   "source": [
    "del df['bus_ter'] #singular value hence no impact on output for this perticular dataset  "
   ]
  },
  {
   "cell_type": "code",
   "execution_count": 33,
   "id": "bright-waste",
   "metadata": {},
   "outputs": [],
   "source": [
    "del df['rainfall']"
   ]
  },
  {
   "cell_type": "code",
   "execution_count": 34,
   "id": "cordless-consultancy",
   "metadata": {},
   "outputs": [
    {
     "data": {
      "text/html": [
       "<div>\n",
       "<style scoped>\n",
       "    .dataframe tbody tr th:only-of-type {\n",
       "        vertical-align: middle;\n",
       "    }\n",
       "\n",
       "    .dataframe tbody tr th {\n",
       "        vertical-align: top;\n",
       "    }\n",
       "\n",
       "    .dataframe thead th {\n",
       "        text-align: right;\n",
       "    }\n",
       "</style>\n",
       "<table border=\"1\" class=\"dataframe\">\n",
       "  <thead>\n",
       "    <tr style=\"text-align: right;\">\n",
       "      <th></th>\n",
       "      <th>price</th>\n",
       "      <th>crime_rate</th>\n",
       "      <th>resid_area</th>\n",
       "      <th>air_qual</th>\n",
       "      <th>room_num</th>\n",
       "      <th>age</th>\n",
       "      <th>teachers</th>\n",
       "      <th>poor_prop</th>\n",
       "      <th>airport</th>\n",
       "      <th>n_hos_beds</th>\n",
       "      <th>n_hot_rooms</th>\n",
       "      <th>waterbody</th>\n",
       "      <th>parks</th>\n",
       "      <th>avg_dist</th>\n",
       "    </tr>\n",
       "  </thead>\n",
       "  <tbody>\n",
       "    <tr>\n",
       "      <th>0</th>\n",
       "      <td>24.0</td>\n",
       "      <td>0.006300</td>\n",
       "      <td>32.31</td>\n",
       "      <td>0.538</td>\n",
       "      <td>6.575</td>\n",
       "      <td>65.2</td>\n",
       "      <td>24.7</td>\n",
       "      <td>4.98</td>\n",
       "      <td>YES</td>\n",
       "      <td>5.480</td>\n",
       "      <td>11.19200</td>\n",
       "      <td>River</td>\n",
       "      <td>0.049347</td>\n",
       "      <td>4.0875</td>\n",
       "    </tr>\n",
       "    <tr>\n",
       "      <th>1</th>\n",
       "      <td>21.6</td>\n",
       "      <td>0.026944</td>\n",
       "      <td>37.07</td>\n",
       "      <td>0.469</td>\n",
       "      <td>6.421</td>\n",
       "      <td>78.9</td>\n",
       "      <td>22.2</td>\n",
       "      <td>9.14</td>\n",
       "      <td>NO</td>\n",
       "      <td>7.332</td>\n",
       "      <td>12.17280</td>\n",
       "      <td>Lake</td>\n",
       "      <td>0.046146</td>\n",
       "      <td>4.9675</td>\n",
       "    </tr>\n",
       "    <tr>\n",
       "      <th>2</th>\n",
       "      <td>34.7</td>\n",
       "      <td>0.026924</td>\n",
       "      <td>37.07</td>\n",
       "      <td>0.469</td>\n",
       "      <td>7.185</td>\n",
       "      <td>61.1</td>\n",
       "      <td>22.2</td>\n",
       "      <td>4.03</td>\n",
       "      <td>NO</td>\n",
       "      <td>7.394</td>\n",
       "      <td>46.19856</td>\n",
       "      <td>None</td>\n",
       "      <td>0.045764</td>\n",
       "      <td>4.9675</td>\n",
       "    </tr>\n",
       "    <tr>\n",
       "      <th>3</th>\n",
       "      <td>33.4</td>\n",
       "      <td>0.031857</td>\n",
       "      <td>32.18</td>\n",
       "      <td>0.458</td>\n",
       "      <td>6.998</td>\n",
       "      <td>45.8</td>\n",
       "      <td>21.3</td>\n",
       "      <td>2.94</td>\n",
       "      <td>YES</td>\n",
       "      <td>9.268</td>\n",
       "      <td>11.26720</td>\n",
       "      <td>Lake</td>\n",
       "      <td>0.047151</td>\n",
       "      <td>6.0650</td>\n",
       "    </tr>\n",
       "  </tbody>\n",
       "</table>\n",
       "</div>"
      ],
      "text/plain": [
       "   price  crime_rate  resid_area  air_qual  room_num   age  teachers  \\\n",
       "0   24.0    0.006300       32.31     0.538     6.575  65.2      24.7   \n",
       "1   21.6    0.026944       37.07     0.469     6.421  78.9      22.2   \n",
       "2   34.7    0.026924       37.07     0.469     7.185  61.1      22.2   \n",
       "3   33.4    0.031857       32.18     0.458     6.998  45.8      21.3   \n",
       "\n",
       "   poor_prop airport  n_hos_beds  n_hot_rooms waterbody     parks  avg_dist  \n",
       "0       4.98     YES       5.480     11.19200     River  0.049347    4.0875  \n",
       "1       9.14      NO       7.332     12.17280      Lake  0.046146    4.9675  \n",
       "2       4.03      NO       7.394     46.19856      None  0.045764    4.9675  \n",
       "3       2.94     YES       9.268     11.26720      Lake  0.047151    6.0650  "
      ]
     },
     "execution_count": 34,
     "metadata": {},
     "output_type": "execute_result"
    }
   ],
   "source": [
    "df.head(4)"
   ]
  },
  {
   "cell_type": "markdown",
   "id": "related-fortune",
   "metadata": {},
   "source": [
    "##### Creating dummy variable for all categorical variable"
   ]
  },
  {
   "cell_type": "code",
   "execution_count": 35,
   "id": "matched-newfoundland",
   "metadata": {},
   "outputs": [],
   "source": [
    "df=pd.get_dummies(df)"
   ]
  },
  {
   "cell_type": "code",
   "execution_count": 36,
   "id": "beginning-scholar",
   "metadata": {},
   "outputs": [
    {
     "data": {
      "text/html": [
       "<div>\n",
       "<style scoped>\n",
       "    .dataframe tbody tr th:only-of-type {\n",
       "        vertical-align: middle;\n",
       "    }\n",
       "\n",
       "    .dataframe tbody tr th {\n",
       "        vertical-align: top;\n",
       "    }\n",
       "\n",
       "    .dataframe thead th {\n",
       "        text-align: right;\n",
       "    }\n",
       "</style>\n",
       "<table border=\"1\" class=\"dataframe\">\n",
       "  <thead>\n",
       "    <tr style=\"text-align: right;\">\n",
       "      <th></th>\n",
       "      <th>price</th>\n",
       "      <th>crime_rate</th>\n",
       "      <th>resid_area</th>\n",
       "      <th>air_qual</th>\n",
       "      <th>room_num</th>\n",
       "      <th>age</th>\n",
       "      <th>teachers</th>\n",
       "      <th>poor_prop</th>\n",
       "      <th>n_hos_beds</th>\n",
       "      <th>n_hot_rooms</th>\n",
       "      <th>parks</th>\n",
       "      <th>avg_dist</th>\n",
       "      <th>airport_NO</th>\n",
       "      <th>airport_YES</th>\n",
       "      <th>waterbody_Lake</th>\n",
       "      <th>waterbody_Lake and River</th>\n",
       "      <th>waterbody_None</th>\n",
       "      <th>waterbody_River</th>\n",
       "    </tr>\n",
       "  </thead>\n",
       "  <tbody>\n",
       "    <tr>\n",
       "      <th>0</th>\n",
       "      <td>24.0</td>\n",
       "      <td>0.006300</td>\n",
       "      <td>32.31</td>\n",
       "      <td>0.538</td>\n",
       "      <td>6.575</td>\n",
       "      <td>65.2</td>\n",
       "      <td>24.7</td>\n",
       "      <td>4.98</td>\n",
       "      <td>5.480</td>\n",
       "      <td>11.19200</td>\n",
       "      <td>0.049347</td>\n",
       "      <td>4.0875</td>\n",
       "      <td>0</td>\n",
       "      <td>1</td>\n",
       "      <td>0</td>\n",
       "      <td>0</td>\n",
       "      <td>0</td>\n",
       "      <td>1</td>\n",
       "    </tr>\n",
       "    <tr>\n",
       "      <th>1</th>\n",
       "      <td>21.6</td>\n",
       "      <td>0.026944</td>\n",
       "      <td>37.07</td>\n",
       "      <td>0.469</td>\n",
       "      <td>6.421</td>\n",
       "      <td>78.9</td>\n",
       "      <td>22.2</td>\n",
       "      <td>9.14</td>\n",
       "      <td>7.332</td>\n",
       "      <td>12.17280</td>\n",
       "      <td>0.046146</td>\n",
       "      <td>4.9675</td>\n",
       "      <td>1</td>\n",
       "      <td>0</td>\n",
       "      <td>1</td>\n",
       "      <td>0</td>\n",
       "      <td>0</td>\n",
       "      <td>0</td>\n",
       "    </tr>\n",
       "    <tr>\n",
       "      <th>2</th>\n",
       "      <td>34.7</td>\n",
       "      <td>0.026924</td>\n",
       "      <td>37.07</td>\n",
       "      <td>0.469</td>\n",
       "      <td>7.185</td>\n",
       "      <td>61.1</td>\n",
       "      <td>22.2</td>\n",
       "      <td>4.03</td>\n",
       "      <td>7.394</td>\n",
       "      <td>46.19856</td>\n",
       "      <td>0.045764</td>\n",
       "      <td>4.9675</td>\n",
       "      <td>1</td>\n",
       "      <td>0</td>\n",
       "      <td>0</td>\n",
       "      <td>0</td>\n",
       "      <td>1</td>\n",
       "      <td>0</td>\n",
       "    </tr>\n",
       "    <tr>\n",
       "      <th>3</th>\n",
       "      <td>33.4</td>\n",
       "      <td>0.031857</td>\n",
       "      <td>32.18</td>\n",
       "      <td>0.458</td>\n",
       "      <td>6.998</td>\n",
       "      <td>45.8</td>\n",
       "      <td>21.3</td>\n",
       "      <td>2.94</td>\n",
       "      <td>9.268</td>\n",
       "      <td>11.26720</td>\n",
       "      <td>0.047151</td>\n",
       "      <td>6.0650</td>\n",
       "      <td>0</td>\n",
       "      <td>1</td>\n",
       "      <td>1</td>\n",
       "      <td>0</td>\n",
       "      <td>0</td>\n",
       "      <td>0</td>\n",
       "    </tr>\n",
       "    <tr>\n",
       "      <th>4</th>\n",
       "      <td>36.2</td>\n",
       "      <td>0.066770</td>\n",
       "      <td>32.18</td>\n",
       "      <td>0.458</td>\n",
       "      <td>7.147</td>\n",
       "      <td>54.2</td>\n",
       "      <td>21.3</td>\n",
       "      <td>5.33</td>\n",
       "      <td>8.824</td>\n",
       "      <td>11.28960</td>\n",
       "      <td>0.039474</td>\n",
       "      <td>6.0625</td>\n",
       "      <td>1</td>\n",
       "      <td>0</td>\n",
       "      <td>1</td>\n",
       "      <td>0</td>\n",
       "      <td>0</td>\n",
       "      <td>0</td>\n",
       "    </tr>\n",
       "  </tbody>\n",
       "</table>\n",
       "</div>"
      ],
      "text/plain": [
       "   price  crime_rate  resid_area  air_qual  room_num   age  teachers  \\\n",
       "0   24.0    0.006300       32.31     0.538     6.575  65.2      24.7   \n",
       "1   21.6    0.026944       37.07     0.469     6.421  78.9      22.2   \n",
       "2   34.7    0.026924       37.07     0.469     7.185  61.1      22.2   \n",
       "3   33.4    0.031857       32.18     0.458     6.998  45.8      21.3   \n",
       "4   36.2    0.066770       32.18     0.458     7.147  54.2      21.3   \n",
       "\n",
       "   poor_prop  n_hos_beds  n_hot_rooms     parks  avg_dist  airport_NO  \\\n",
       "0       4.98       5.480     11.19200  0.049347    4.0875           0   \n",
       "1       9.14       7.332     12.17280  0.046146    4.9675           1   \n",
       "2       4.03       7.394     46.19856  0.045764    4.9675           1   \n",
       "3       2.94       9.268     11.26720  0.047151    6.0650           0   \n",
       "4       5.33       8.824     11.28960  0.039474    6.0625           1   \n",
       "\n",
       "   airport_YES  waterbody_Lake  waterbody_Lake and River  waterbody_None  \\\n",
       "0            1               0                         0               0   \n",
       "1            0               1                         0               0   \n",
       "2            0               0                         0               1   \n",
       "3            1               1                         0               0   \n",
       "4            0               1                         0               0   \n",
       "\n",
       "   waterbody_River  \n",
       "0                1  \n",
       "1                0  \n",
       "2                0  \n",
       "3                0  \n",
       "4                0  "
      ]
     },
     "execution_count": 36,
     "metadata": {},
     "output_type": "execute_result"
    }
   ],
   "source": [
    "df.head()"
   ]
  },
  {
   "cell_type": "code",
   "execution_count": 37,
   "id": "ordered-shipping",
   "metadata": {},
   "outputs": [],
   "source": [
    "del df['airport_NO']"
   ]
  },
  {
   "cell_type": "code",
   "execution_count": 38,
   "id": "mineral-conjunction",
   "metadata": {},
   "outputs": [],
   "source": [
    "del df['waterbody_None']"
   ]
  },
  {
   "cell_type": "code",
   "execution_count": 39,
   "id": "expanded-symphony",
   "metadata": {},
   "outputs": [
    {
     "data": {
      "text/html": [
       "<div>\n",
       "<style scoped>\n",
       "    .dataframe tbody tr th:only-of-type {\n",
       "        vertical-align: middle;\n",
       "    }\n",
       "\n",
       "    .dataframe tbody tr th {\n",
       "        vertical-align: top;\n",
       "    }\n",
       "\n",
       "    .dataframe thead th {\n",
       "        text-align: right;\n",
       "    }\n",
       "</style>\n",
       "<table border=\"1\" class=\"dataframe\">\n",
       "  <thead>\n",
       "    <tr style=\"text-align: right;\">\n",
       "      <th></th>\n",
       "      <th>price</th>\n",
       "      <th>crime_rate</th>\n",
       "      <th>resid_area</th>\n",
       "      <th>air_qual</th>\n",
       "      <th>room_num</th>\n",
       "      <th>age</th>\n",
       "      <th>teachers</th>\n",
       "      <th>poor_prop</th>\n",
       "      <th>n_hos_beds</th>\n",
       "      <th>n_hot_rooms</th>\n",
       "      <th>parks</th>\n",
       "      <th>avg_dist</th>\n",
       "      <th>airport_YES</th>\n",
       "      <th>waterbody_Lake</th>\n",
       "      <th>waterbody_Lake and River</th>\n",
       "      <th>waterbody_River</th>\n",
       "    </tr>\n",
       "  </thead>\n",
       "  <tbody>\n",
       "    <tr>\n",
       "      <th>0</th>\n",
       "      <td>24.0</td>\n",
       "      <td>0.0063</td>\n",
       "      <td>32.31</td>\n",
       "      <td>0.538</td>\n",
       "      <td>6.575</td>\n",
       "      <td>65.2</td>\n",
       "      <td>24.7</td>\n",
       "      <td>4.98</td>\n",
       "      <td>5.48</td>\n",
       "      <td>11.192</td>\n",
       "      <td>0.049347</td>\n",
       "      <td>4.0875</td>\n",
       "      <td>1</td>\n",
       "      <td>0</td>\n",
       "      <td>0</td>\n",
       "      <td>1</td>\n",
       "    </tr>\n",
       "  </tbody>\n",
       "</table>\n",
       "</div>"
      ],
      "text/plain": [
       "   price  crime_rate  resid_area  air_qual  room_num   age  teachers  \\\n",
       "0   24.0      0.0063       32.31     0.538     6.575  65.2      24.7   \n",
       "\n",
       "   poor_prop  n_hos_beds  n_hot_rooms     parks  avg_dist  airport_YES  \\\n",
       "0       4.98        5.48       11.192  0.049347    4.0875            1   \n",
       "\n",
       "   waterbody_Lake  waterbody_Lake and River  waterbody_River  \n",
       "0               0                         0                1  "
      ]
     },
     "execution_count": 39,
     "metadata": {},
     "output_type": "execute_result"
    }
   ],
   "source": [
    "df.head(1)"
   ]
  },
  {
   "cell_type": "markdown",
   "id": "horizontal-kazakhstan",
   "metadata": {},
   "source": [
    "* #####  Corelation Analysis\n"
   ]
  },
  {
   "cell_type": "code",
   "execution_count": 40,
   "id": "interracial-rescue",
   "metadata": {},
   "outputs": [
    {
     "data": {
      "text/html": [
       "<div>\n",
       "<style scoped>\n",
       "    .dataframe tbody tr th:only-of-type {\n",
       "        vertical-align: middle;\n",
       "    }\n",
       "\n",
       "    .dataframe tbody tr th {\n",
       "        vertical-align: top;\n",
       "    }\n",
       "\n",
       "    .dataframe thead th {\n",
       "        text-align: right;\n",
       "    }\n",
       "</style>\n",
       "<table border=\"1\" class=\"dataframe\">\n",
       "  <thead>\n",
       "    <tr style=\"text-align: right;\">\n",
       "      <th></th>\n",
       "      <th>price</th>\n",
       "      <th>crime_rate</th>\n",
       "      <th>resid_area</th>\n",
       "      <th>air_qual</th>\n",
       "      <th>room_num</th>\n",
       "      <th>age</th>\n",
       "      <th>teachers</th>\n",
       "      <th>poor_prop</th>\n",
       "      <th>n_hos_beds</th>\n",
       "      <th>n_hot_rooms</th>\n",
       "      <th>parks</th>\n",
       "      <th>avg_dist</th>\n",
       "      <th>airport_YES</th>\n",
       "      <th>waterbody_Lake</th>\n",
       "      <th>waterbody_Lake and River</th>\n",
       "      <th>waterbody_River</th>\n",
       "    </tr>\n",
       "  </thead>\n",
       "  <tbody>\n",
       "    <tr>\n",
       "      <th>price</th>\n",
       "      <td>1.000000</td>\n",
       "      <td>-0.466527</td>\n",
       "      <td>-0.484754</td>\n",
       "      <td>-0.429300</td>\n",
       "      <td>0.696304</td>\n",
       "      <td>-0.377999</td>\n",
       "      <td>0.505655</td>\n",
       "      <td>-0.740836</td>\n",
       "      <td>0.108880</td>\n",
       "      <td>0.017007</td>\n",
       "      <td>-0.391574</td>\n",
       "      <td>0.249289</td>\n",
       "      <td>0.182867</td>\n",
       "      <td>0.036233</td>\n",
       "      <td>-0.037497</td>\n",
       "      <td>0.071751</td>\n",
       "    </tr>\n",
       "    <tr>\n",
       "      <th>crime_rate</th>\n",
       "      <td>-0.466527</td>\n",
       "      <td>1.000000</td>\n",
       "      <td>0.660283</td>\n",
       "      <td>0.707587</td>\n",
       "      <td>-0.288784</td>\n",
       "      <td>0.559591</td>\n",
       "      <td>-0.390052</td>\n",
       "      <td>0.608970</td>\n",
       "      <td>-0.004089</td>\n",
       "      <td>0.056570</td>\n",
       "      <td>0.638951</td>\n",
       "      <td>-0.586371</td>\n",
       "      <td>-0.134486</td>\n",
       "      <td>-0.025390</td>\n",
       "      <td>0.009076</td>\n",
       "      <td>-0.060099</td>\n",
       "    </tr>\n",
       "    <tr>\n",
       "      <th>resid_area</th>\n",
       "      <td>-0.484754</td>\n",
       "      <td>0.660283</td>\n",
       "      <td>1.000000</td>\n",
       "      <td>0.763651</td>\n",
       "      <td>-0.391676</td>\n",
       "      <td>0.644779</td>\n",
       "      <td>-0.383248</td>\n",
       "      <td>0.603800</td>\n",
       "      <td>0.005799</td>\n",
       "      <td>-0.003761</td>\n",
       "      <td>0.707635</td>\n",
       "      <td>-0.708022</td>\n",
       "      <td>-0.115401</td>\n",
       "      <td>-0.026590</td>\n",
       "      <td>0.051649</td>\n",
       "      <td>-0.098976</td>\n",
       "    </tr>\n",
       "    <tr>\n",
       "      <th>air_qual</th>\n",
       "      <td>-0.429300</td>\n",
       "      <td>0.707587</td>\n",
       "      <td>0.763651</td>\n",
       "      <td>1.000000</td>\n",
       "      <td>-0.302188</td>\n",
       "      <td>0.731470</td>\n",
       "      <td>-0.188933</td>\n",
       "      <td>0.590879</td>\n",
       "      <td>-0.049553</td>\n",
       "      <td>0.007238</td>\n",
       "      <td>0.915544</td>\n",
       "      <td>-0.769247</td>\n",
       "      <td>-0.073903</td>\n",
       "      <td>-0.046393</td>\n",
       "      <td>0.013849</td>\n",
       "      <td>-0.037772</td>\n",
       "    </tr>\n",
       "    <tr>\n",
       "      <th>room_num</th>\n",
       "      <td>0.696304</td>\n",
       "      <td>-0.288784</td>\n",
       "      <td>-0.391676</td>\n",
       "      <td>-0.302188</td>\n",
       "      <td>1.000000</td>\n",
       "      <td>-0.240265</td>\n",
       "      <td>0.355501</td>\n",
       "      <td>-0.613808</td>\n",
       "      <td>0.032009</td>\n",
       "      <td>0.014583</td>\n",
       "      <td>-0.282817</td>\n",
       "      <td>0.205241</td>\n",
       "      <td>0.163774</td>\n",
       "      <td>-0.004195</td>\n",
       "      <td>0.010554</td>\n",
       "      <td>0.046251</td>\n",
       "    </tr>\n",
       "    <tr>\n",
       "      <th>age</th>\n",
       "      <td>-0.377999</td>\n",
       "      <td>0.559591</td>\n",
       "      <td>0.644779</td>\n",
       "      <td>0.731470</td>\n",
       "      <td>-0.240265</td>\n",
       "      <td>1.000000</td>\n",
       "      <td>-0.261515</td>\n",
       "      <td>0.602339</td>\n",
       "      <td>-0.021012</td>\n",
       "      <td>0.013918</td>\n",
       "      <td>0.673850</td>\n",
       "      <td>-0.747906</td>\n",
       "      <td>0.005101</td>\n",
       "      <td>0.003452</td>\n",
       "      <td>-0.004354</td>\n",
       "      <td>-0.088609</td>\n",
       "    </tr>\n",
       "    <tr>\n",
       "      <th>teachers</th>\n",
       "      <td>0.505655</td>\n",
       "      <td>-0.390052</td>\n",
       "      <td>-0.383248</td>\n",
       "      <td>-0.188933</td>\n",
       "      <td>0.355501</td>\n",
       "      <td>-0.261515</td>\n",
       "      <td>1.000000</td>\n",
       "      <td>-0.374044</td>\n",
       "      <td>-0.008056</td>\n",
       "      <td>-0.037007</td>\n",
       "      <td>-0.187004</td>\n",
       "      <td>0.232452</td>\n",
       "      <td>0.069437</td>\n",
       "      <td>0.048717</td>\n",
       "      <td>-0.046981</td>\n",
       "      <td>0.094256</td>\n",
       "    </tr>\n",
       "    <tr>\n",
       "      <th>poor_prop</th>\n",
       "      <td>-0.740836</td>\n",
       "      <td>0.608970</td>\n",
       "      <td>0.603800</td>\n",
       "      <td>0.590879</td>\n",
       "      <td>-0.613808</td>\n",
       "      <td>0.602339</td>\n",
       "      <td>-0.374044</td>\n",
       "      <td>1.000000</td>\n",
       "      <td>-0.066008</td>\n",
       "      <td>0.017036</td>\n",
       "      <td>0.552310</td>\n",
       "      <td>-0.496967</td>\n",
       "      <td>-0.095054</td>\n",
       "      <td>0.003197</td>\n",
       "      <td>0.020620</td>\n",
       "      <td>-0.109004</td>\n",
       "    </tr>\n",
       "    <tr>\n",
       "      <th>n_hos_beds</th>\n",
       "      <td>0.108880</td>\n",
       "      <td>-0.004089</td>\n",
       "      <td>0.005799</td>\n",
       "      <td>-0.049553</td>\n",
       "      <td>0.032009</td>\n",
       "      <td>-0.021012</td>\n",
       "      <td>-0.008056</td>\n",
       "      <td>-0.066008</td>\n",
       "      <td>1.000000</td>\n",
       "      <td>-0.003130</td>\n",
       "      <td>-0.071272</td>\n",
       "      <td>-0.027871</td>\n",
       "      <td>-0.006365</td>\n",
       "      <td>0.042278</td>\n",
       "      <td>0.059482</td>\n",
       "      <td>-0.074148</td>\n",
       "    </tr>\n",
       "    <tr>\n",
       "      <th>n_hot_rooms</th>\n",
       "      <td>0.017007</td>\n",
       "      <td>0.056570</td>\n",
       "      <td>-0.003761</td>\n",
       "      <td>0.007238</td>\n",
       "      <td>0.014583</td>\n",
       "      <td>0.013918</td>\n",
       "      <td>-0.037007</td>\n",
       "      <td>0.017036</td>\n",
       "      <td>-0.003130</td>\n",
       "      <td>1.000000</td>\n",
       "      <td>0.023757</td>\n",
       "      <td>-0.020700</td>\n",
       "      <td>-0.055338</td>\n",
       "      <td>0.037925</td>\n",
       "      <td>0.014755</td>\n",
       "      <td>-0.064096</td>\n",
       "    </tr>\n",
       "    <tr>\n",
       "      <th>parks</th>\n",
       "      <td>-0.391574</td>\n",
       "      <td>0.638951</td>\n",
       "      <td>0.707635</td>\n",
       "      <td>0.915544</td>\n",
       "      <td>-0.282817</td>\n",
       "      <td>0.673850</td>\n",
       "      <td>-0.187004</td>\n",
       "      <td>0.552310</td>\n",
       "      <td>-0.071272</td>\n",
       "      <td>0.023757</td>\n",
       "      <td>1.000000</td>\n",
       "      <td>-0.707924</td>\n",
       "      <td>-0.052503</td>\n",
       "      <td>-0.034991</td>\n",
       "      <td>0.013265</td>\n",
       "      <td>-0.048862</td>\n",
       "    </tr>\n",
       "    <tr>\n",
       "      <th>avg_dist</th>\n",
       "      <td>0.249289</td>\n",
       "      <td>-0.586371</td>\n",
       "      <td>-0.708022</td>\n",
       "      <td>-0.769247</td>\n",
       "      <td>0.205241</td>\n",
       "      <td>-0.747906</td>\n",
       "      <td>0.232452</td>\n",
       "      <td>-0.496967</td>\n",
       "      <td>-0.027871</td>\n",
       "      <td>-0.020700</td>\n",
       "      <td>-0.707924</td>\n",
       "      <td>1.000000</td>\n",
       "      <td>0.021402</td>\n",
       "      <td>0.034890</td>\n",
       "      <td>-0.021320</td>\n",
       "      <td>0.032247</td>\n",
       "    </tr>\n",
       "    <tr>\n",
       "      <th>airport_YES</th>\n",
       "      <td>0.182867</td>\n",
       "      <td>-0.134486</td>\n",
       "      <td>-0.115401</td>\n",
       "      <td>-0.073903</td>\n",
       "      <td>0.163774</td>\n",
       "      <td>0.005101</td>\n",
       "      <td>0.069437</td>\n",
       "      <td>-0.095054</td>\n",
       "      <td>-0.006365</td>\n",
       "      <td>-0.055338</td>\n",
       "      <td>-0.052503</td>\n",
       "      <td>0.021402</td>\n",
       "      <td>1.000000</td>\n",
       "      <td>0.035491</td>\n",
       "      <td>-0.070341</td>\n",
       "      <td>0.017341</td>\n",
       "    </tr>\n",
       "    <tr>\n",
       "      <th>waterbody_Lake</th>\n",
       "      <td>0.036233</td>\n",
       "      <td>-0.025390</td>\n",
       "      <td>-0.026590</td>\n",
       "      <td>-0.046393</td>\n",
       "      <td>-0.004195</td>\n",
       "      <td>0.003452</td>\n",
       "      <td>0.048717</td>\n",
       "      <td>0.003197</td>\n",
       "      <td>0.042278</td>\n",
       "      <td>0.037925</td>\n",
       "      <td>-0.034991</td>\n",
       "      <td>0.034890</td>\n",
       "      <td>0.035491</td>\n",
       "      <td>1.000000</td>\n",
       "      <td>-0.196747</td>\n",
       "      <td>-0.366563</td>\n",
       "    </tr>\n",
       "    <tr>\n",
       "      <th>waterbody_Lake and River</th>\n",
       "      <td>-0.037497</td>\n",
       "      <td>0.009076</td>\n",
       "      <td>0.051649</td>\n",
       "      <td>0.013849</td>\n",
       "      <td>0.010554</td>\n",
       "      <td>-0.004354</td>\n",
       "      <td>-0.046981</td>\n",
       "      <td>0.020620</td>\n",
       "      <td>0.059482</td>\n",
       "      <td>0.014755</td>\n",
       "      <td>0.013265</td>\n",
       "      <td>-0.021320</td>\n",
       "      <td>-0.070341</td>\n",
       "      <td>-0.196747</td>\n",
       "      <td>1.000000</td>\n",
       "      <td>-0.304095</td>\n",
       "    </tr>\n",
       "    <tr>\n",
       "      <th>waterbody_River</th>\n",
       "      <td>0.071751</td>\n",
       "      <td>-0.060099</td>\n",
       "      <td>-0.098976</td>\n",
       "      <td>-0.037772</td>\n",
       "      <td>0.046251</td>\n",
       "      <td>-0.088609</td>\n",
       "      <td>0.094256</td>\n",
       "      <td>-0.109004</td>\n",
       "      <td>-0.074148</td>\n",
       "      <td>-0.064096</td>\n",
       "      <td>-0.048862</td>\n",
       "      <td>0.032247</td>\n",
       "      <td>0.017341</td>\n",
       "      <td>-0.366563</td>\n",
       "      <td>-0.304095</td>\n",
       "      <td>1.000000</td>\n",
       "    </tr>\n",
       "  </tbody>\n",
       "</table>\n",
       "</div>"
      ],
      "text/plain": [
       "                             price  crime_rate  resid_area  air_qual  \\\n",
       "price                     1.000000   -0.466527   -0.484754 -0.429300   \n",
       "crime_rate               -0.466527    1.000000    0.660283  0.707587   \n",
       "resid_area               -0.484754    0.660283    1.000000  0.763651   \n",
       "air_qual                 -0.429300    0.707587    0.763651  1.000000   \n",
       "room_num                  0.696304   -0.288784   -0.391676 -0.302188   \n",
       "age                      -0.377999    0.559591    0.644779  0.731470   \n",
       "teachers                  0.505655   -0.390052   -0.383248 -0.188933   \n",
       "poor_prop                -0.740836    0.608970    0.603800  0.590879   \n",
       "n_hos_beds                0.108880   -0.004089    0.005799 -0.049553   \n",
       "n_hot_rooms               0.017007    0.056570   -0.003761  0.007238   \n",
       "parks                    -0.391574    0.638951    0.707635  0.915544   \n",
       "avg_dist                  0.249289   -0.586371   -0.708022 -0.769247   \n",
       "airport_YES               0.182867   -0.134486   -0.115401 -0.073903   \n",
       "waterbody_Lake            0.036233   -0.025390   -0.026590 -0.046393   \n",
       "waterbody_Lake and River -0.037497    0.009076    0.051649  0.013849   \n",
       "waterbody_River           0.071751   -0.060099   -0.098976 -0.037772   \n",
       "\n",
       "                          room_num       age  teachers  poor_prop  n_hos_beds  \\\n",
       "price                     0.696304 -0.377999  0.505655  -0.740836    0.108880   \n",
       "crime_rate               -0.288784  0.559591 -0.390052   0.608970   -0.004089   \n",
       "resid_area               -0.391676  0.644779 -0.383248   0.603800    0.005799   \n",
       "air_qual                 -0.302188  0.731470 -0.188933   0.590879   -0.049553   \n",
       "room_num                  1.000000 -0.240265  0.355501  -0.613808    0.032009   \n",
       "age                      -0.240265  1.000000 -0.261515   0.602339   -0.021012   \n",
       "teachers                  0.355501 -0.261515  1.000000  -0.374044   -0.008056   \n",
       "poor_prop                -0.613808  0.602339 -0.374044   1.000000   -0.066008   \n",
       "n_hos_beds                0.032009 -0.021012 -0.008056  -0.066008    1.000000   \n",
       "n_hot_rooms               0.014583  0.013918 -0.037007   0.017036   -0.003130   \n",
       "parks                    -0.282817  0.673850 -0.187004   0.552310   -0.071272   \n",
       "avg_dist                  0.205241 -0.747906  0.232452  -0.496967   -0.027871   \n",
       "airport_YES               0.163774  0.005101  0.069437  -0.095054   -0.006365   \n",
       "waterbody_Lake           -0.004195  0.003452  0.048717   0.003197    0.042278   \n",
       "waterbody_Lake and River  0.010554 -0.004354 -0.046981   0.020620    0.059482   \n",
       "waterbody_River           0.046251 -0.088609  0.094256  -0.109004   -0.074148   \n",
       "\n",
       "                          n_hot_rooms     parks  avg_dist  airport_YES  \\\n",
       "price                        0.017007 -0.391574  0.249289     0.182867   \n",
       "crime_rate                   0.056570  0.638951 -0.586371    -0.134486   \n",
       "resid_area                  -0.003761  0.707635 -0.708022    -0.115401   \n",
       "air_qual                     0.007238  0.915544 -0.769247    -0.073903   \n",
       "room_num                     0.014583 -0.282817  0.205241     0.163774   \n",
       "age                          0.013918  0.673850 -0.747906     0.005101   \n",
       "teachers                    -0.037007 -0.187004  0.232452     0.069437   \n",
       "poor_prop                    0.017036  0.552310 -0.496967    -0.095054   \n",
       "n_hos_beds                  -0.003130 -0.071272 -0.027871    -0.006365   \n",
       "n_hot_rooms                  1.000000  0.023757 -0.020700    -0.055338   \n",
       "parks                        0.023757  1.000000 -0.707924    -0.052503   \n",
       "avg_dist                    -0.020700 -0.707924  1.000000     0.021402   \n",
       "airport_YES                 -0.055338 -0.052503  0.021402     1.000000   \n",
       "waterbody_Lake               0.037925 -0.034991  0.034890     0.035491   \n",
       "waterbody_Lake and River     0.014755  0.013265 -0.021320    -0.070341   \n",
       "waterbody_River             -0.064096 -0.048862  0.032247     0.017341   \n",
       "\n",
       "                          waterbody_Lake  waterbody_Lake and River  \\\n",
       "price                           0.036233                 -0.037497   \n",
       "crime_rate                     -0.025390                  0.009076   \n",
       "resid_area                     -0.026590                  0.051649   \n",
       "air_qual                       -0.046393                  0.013849   \n",
       "room_num                       -0.004195                  0.010554   \n",
       "age                             0.003452                 -0.004354   \n",
       "teachers                        0.048717                 -0.046981   \n",
       "poor_prop                       0.003197                  0.020620   \n",
       "n_hos_beds                      0.042278                  0.059482   \n",
       "n_hot_rooms                     0.037925                  0.014755   \n",
       "parks                          -0.034991                  0.013265   \n",
       "avg_dist                        0.034890                 -0.021320   \n",
       "airport_YES                     0.035491                 -0.070341   \n",
       "waterbody_Lake                  1.000000                 -0.196747   \n",
       "waterbody_Lake and River       -0.196747                  1.000000   \n",
       "waterbody_River                -0.366563                 -0.304095   \n",
       "\n",
       "                          waterbody_River  \n",
       "price                            0.071751  \n",
       "crime_rate                      -0.060099  \n",
       "resid_area                      -0.098976  \n",
       "air_qual                        -0.037772  \n",
       "room_num                         0.046251  \n",
       "age                             -0.088609  \n",
       "teachers                         0.094256  \n",
       "poor_prop                       -0.109004  \n",
       "n_hos_beds                      -0.074148  \n",
       "n_hot_rooms                     -0.064096  \n",
       "parks                           -0.048862  \n",
       "avg_dist                         0.032247  \n",
       "airport_YES                      0.017341  \n",
       "waterbody_Lake                  -0.366563  \n",
       "waterbody_Lake and River        -0.304095  \n",
       "waterbody_River                  1.000000  "
      ]
     },
     "execution_count": 40,
     "metadata": {},
     "output_type": "execute_result"
    }
   ],
   "source": [
    "df.corr()"
   ]
  },
  {
   "cell_type": "markdown",
   "id": "excess-landscape",
   "metadata": {},
   "source": [
    "Parks and air quality show high positive co-relation so will lead to multi colinearity hence we need to drop one of them"
   ]
  },
  {
   "cell_type": "code",
   "execution_count": 41,
   "id": "assumed-feelings",
   "metadata": {},
   "outputs": [],
   "source": [
    "del df['parks']"
   ]
  },
  {
   "cell_type": "markdown",
   "id": "harmful-manhattan",
   "metadata": {},
   "source": [
    " * ###  Building Simple Linear Regressor Model\n",
    "  ##### here just one imdependent variable is fitted to our dependent variable that is room_num to price respectively the same process can be done for all the other independent variable"
   ]
  },
  {
   "cell_type": "code",
   "execution_count": 42,
   "id": "alpine-infrastructure",
   "metadata": {},
   "outputs": [],
   "source": [
    "import statsmodels.api as sn"
   ]
  },
  {
   "cell_type": "code",
   "execution_count": 43,
   "id": "overall-westminster",
   "metadata": {},
   "outputs": [],
   "source": [
    "X = sn.add_constant(df['room_num'])"
   ]
  },
  {
   "cell_type": "code",
   "execution_count": 44,
   "id": "medieval-quest",
   "metadata": {},
   "outputs": [],
   "source": [
    "lm = sn.OLS(df['price'],X).fit()"
   ]
  },
  {
   "cell_type": "code",
   "execution_count": 45,
   "id": "southeast-springer",
   "metadata": {},
   "outputs": [
    {
     "data": {
      "text/html": [
       "<table class=\"simpletable\">\n",
       "<caption>OLS Regression Results</caption>\n",
       "<tr>\n",
       "  <th>Dep. Variable:</th>          <td>price</td>      <th>  R-squared:         </th> <td>   0.485</td>\n",
       "</tr>\n",
       "<tr>\n",
       "  <th>Model:</th>                   <td>OLS</td>       <th>  Adj. R-squared:    </th> <td>   0.484</td>\n",
       "</tr>\n",
       "<tr>\n",
       "  <th>Method:</th>             <td>Least Squares</td>  <th>  F-statistic:       </th> <td>   474.3</td>\n",
       "</tr>\n",
       "<tr>\n",
       "  <th>Date:</th>             <td>Wed, 24 Feb 2021</td> <th>  Prob (F-statistic):</th> <td>1.31e-74</td>\n",
       "</tr>\n",
       "<tr>\n",
       "  <th>Time:</th>                 <td>00:41:29</td>     <th>  Log-Likelihood:    </th> <td> -1671.6</td>\n",
       "</tr>\n",
       "<tr>\n",
       "  <th>No. Observations:</th>      <td>   506</td>      <th>  AIC:               </th> <td>   3347.</td>\n",
       "</tr>\n",
       "<tr>\n",
       "  <th>Df Residuals:</th>          <td>   504</td>      <th>  BIC:               </th> <td>   3356.</td>\n",
       "</tr>\n",
       "<tr>\n",
       "  <th>Df Model:</th>              <td>     1</td>      <th>                     </th>     <td> </td>   \n",
       "</tr>\n",
       "<tr>\n",
       "  <th>Covariance Type:</th>      <td>nonrobust</td>    <th>                     </th>     <td> </td>   \n",
       "</tr>\n",
       "</table>\n",
       "<table class=\"simpletable\">\n",
       "<tr>\n",
       "      <td></td>        <th>coef</th>     <th>std err</th>      <th>t</th>      <th>P>|t|</th>  <th>[0.025</th>    <th>0.975]</th>  \n",
       "</tr>\n",
       "<tr>\n",
       "  <th>const</th>    <td>  -34.6592</td> <td>    2.642</td> <td>  -13.118</td> <td> 0.000</td> <td>  -39.850</td> <td>  -29.468</td>\n",
       "</tr>\n",
       "<tr>\n",
       "  <th>room_num</th> <td>    9.0997</td> <td>    0.418</td> <td>   21.779</td> <td> 0.000</td> <td>    8.279</td> <td>    9.921</td>\n",
       "</tr>\n",
       "</table>\n",
       "<table class=\"simpletable\">\n",
       "<tr>\n",
       "  <th>Omnibus:</th>       <td>103.753</td> <th>  Durbin-Watson:     </th> <td>   0.681</td> \n",
       "</tr>\n",
       "<tr>\n",
       "  <th>Prob(Omnibus):</th> <td> 0.000</td>  <th>  Jarque-Bera (JB):  </th> <td> 633.429</td> \n",
       "</tr>\n",
       "<tr>\n",
       "  <th>Skew:</th>          <td> 0.729</td>  <th>  Prob(JB):          </th> <td>2.84e-138</td>\n",
       "</tr>\n",
       "<tr>\n",
       "  <th>Kurtosis:</th>      <td> 8.284</td>  <th>  Cond. No.          </th> <td>    58.4</td> \n",
       "</tr>\n",
       "</table><br/><br/>Notes:<br/>[1] Standard Errors assume that the covariance matrix of the errors is correctly specified."
      ],
      "text/plain": [
       "<class 'statsmodels.iolib.summary.Summary'>\n",
       "\"\"\"\n",
       "                            OLS Regression Results                            \n",
       "==============================================================================\n",
       "Dep. Variable:                  price   R-squared:                       0.485\n",
       "Model:                            OLS   Adj. R-squared:                  0.484\n",
       "Method:                 Least Squares   F-statistic:                     474.3\n",
       "Date:                Wed, 24 Feb 2021   Prob (F-statistic):           1.31e-74\n",
       "Time:                        00:41:29   Log-Likelihood:                -1671.6\n",
       "No. Observations:                 506   AIC:                             3347.\n",
       "Df Residuals:                     504   BIC:                             3356.\n",
       "Df Model:                           1                                         \n",
       "Covariance Type:            nonrobust                                         \n",
       "==============================================================================\n",
       "                 coef    std err          t      P>|t|      [0.025      0.975]\n",
       "------------------------------------------------------------------------------\n",
       "const        -34.6592      2.642    -13.118      0.000     -39.850     -29.468\n",
       "room_num       9.0997      0.418     21.779      0.000       8.279       9.921\n",
       "==============================================================================\n",
       "Omnibus:                      103.753   Durbin-Watson:                   0.681\n",
       "Prob(Omnibus):                  0.000   Jarque-Bera (JB):              633.429\n",
       "Skew:                           0.729   Prob(JB):                    2.84e-138\n",
       "Kurtosis:                       8.284   Cond. No.                         58.4\n",
       "==============================================================================\n",
       "\n",
       "Notes:\n",
       "[1] Standard Errors assume that the covariance matrix of the errors is correctly specified.\n",
       "\"\"\""
      ]
     },
     "execution_count": 45,
     "metadata": {},
     "output_type": "execute_result"
    }
   ],
   "source": [
    "lm.summary()"
   ]
  },
  {
   "cell_type": "code",
   "execution_count": 46,
   "id": "piano-webmaster",
   "metadata": {},
   "outputs": [],
   "source": [
    "from sklearn.linear_model import LinearRegression"
   ]
  },
  {
   "cell_type": "code",
   "execution_count": 47,
   "id": "cross-physiology",
   "metadata": {},
   "outputs": [],
   "source": [
    "y=df['price']"
   ]
  },
  {
   "cell_type": "code",
   "execution_count": 48,
   "id": "angry-premiere",
   "metadata": {},
   "outputs": [],
   "source": [
    "X=df[['room_num']]"
   ]
  },
  {
   "cell_type": "code",
   "execution_count": 49,
   "id": "greenhouse-criticism",
   "metadata": {},
   "outputs": [],
   "source": [
    "lm2= LinearRegression()"
   ]
  },
  {
   "cell_type": "code",
   "execution_count": 50,
   "id": "completed-writer",
   "metadata": {},
   "outputs": [
    {
     "data": {
      "text/plain": [
       "LinearRegression()"
      ]
     },
     "execution_count": 50,
     "metadata": {},
     "output_type": "execute_result"
    }
   ],
   "source": [
    "lm2.fit(X,y)"
   ]
  },
  {
   "cell_type": "code",
   "execution_count": 51,
   "id": "dated-asian",
   "metadata": {},
   "outputs": [
    {
     "name": "stdout",
     "output_type": "stream",
     "text": [
      "-34.6592431230972 [9.09966966]\n"
     ]
    }
   ],
   "source": [
    "print(lm2.intercept_, lm2.coef_)"
   ]
  },
  {
   "cell_type": "code",
   "execution_count": 52,
   "id": "aquatic-action",
   "metadata": {},
   "outputs": [
    {
     "data": {
      "text/plain": [
       "array([25.17108491, 23.76973578, 30.72188341, 29.02024518, 30.37609596,\n",
       "       23.85163281, 20.04797089, 21.50391804, 16.58099675, 19.97517353,\n",
       "       23.36935032, 20.02067188, 18.92871152, 19.4746917 , 20.81234314,\n",
       "       18.42822969, 19.34729633, 19.84777816, 14.98855456, 17.45456504,\n",
       "       16.0259169 , 19.62028642, 21.23092795, 18.23713663, 19.24719996,\n",
       "       16.28980732, 18.23713663, 20.36645933, 24.44311134, 26.07195221,\n",
       "       17.32716966, 20.59395107, 19.48379137, 17.21797363, 20.81234314,\n",
       "       19.32909699, 18.49192738, 18.57382441, 19.62938609, 25.3530783 ,\n",
       "       29.25683659, 26.9455205 , 21.47661903, 21.85880515, 20.56665206,\n",
       "       17.0450799 , 17.99144555, 20.21176495, 14.46987339, 16.31710633,\n",
       "       19.60208708, 20.98523687, 24.58870605, 19.92057552, 18.91961185,\n",
       "       31.30426226, 23.42394834, 27.3641053 , 21.25822696, 19.27449897,\n",
       "       17.58196041, 19.62938609, 24.08822422, 26.87272314, 29.98481016,\n",
       "       22.57767906, 18.00054522, 18.82861516, 16.24430897, 18.89231284,\n",
       "       23.7333371 , 19.58388774, 20.53025338, 22.16819392, 22.42298467,\n",
       "       22.54128038, 22.47758269, 21.21272861, 22.04989822, 18.79221648,\n",
       "       26.5542347 , 25.57147038, 22.68687509, 21.45841969, 23.47854635,\n",
       "       25.67156674, 20.0752699 , 21.03983488, 29.10214221, 29.75731842,\n",
       "       23.7333371 , 23.62414107, 23.96082885, 21.85880515, 22.2045926 ,\n",
       "       25.62606839, 21.42202101, 38.76599139, 36.50017364, 32.8239071 ,\n",
       "       26.5542347 , 27.04561686, 23.62414107, 21.1854296 , 21.45841969,\n",
       "       18.58292408, 18.44642903, 21.0944329 , 24.25201828, 22.02259921,\n",
       "       21.71321044, 26.44503866, 19.14710359, 20.77594446, 22.25009095,\n",
       "       19.28359864, 21.54031672, 20.12986792, 18.77401714, 17.49096372,\n",
       "       18.7558178 , 19.97517353, 19.58388774, 18.62842242, 18.83771483,\n",
       "       19.81137948, 16.4172027 , 17.14517627, 23.86073248, 16.63559477,\n",
       "       24.10642356, 22.90526717, 23.32385197, 18.31903366, 17.72755513,\n",
       "       22.98716419, 19.41099401, 24.07002488, 18.63752209, 21.31282497,\n",
       "       21.52211738, 11.01199892, 14.50627207, 15.09775059,  9.95643723,\n",
       "       21.12173191, 16.55369774, 10.16572964, 12.53164375, 16.27160798,\n",
       "       21.04893455, 14.51537174, 10.94830123, 17.29077098, 21.11263224,\n",
       "       21.32192464, 13.31421534, 28.51976335, 20.53935305, 24.57960638,\n",
       "       22.21369227, 33.48818298, 36.33637959, 41.55049031, 18.61022308,\n",
       "       20.85784149, 37.49203764, 18.81951549, 22.84156948, 23.59684206,\n",
       "       18.80131615, 18.8468145 , 16.04411624, 23.72423744, 18.65572143,\n",
       "       24.90719449, 20.12076825, 22.8051708 , 27.76449077, 28.85645113,\n",
       "       35.99969181, 21.24912729, 30.44889332, 25.06188888, 16.33530567,\n",
       "       21.33102431, 36.60027001, 27.05471653, 24.99819119, 30.72188341,\n",
       "       28.5925607 , 26.66343074, 30.65818572, 27.21851059, 25.43497533,\n",
       "       37.00065547, 31.65004971, 30.01210917, 31.53175401, 28.81095278,\n",
       "       30.26689992, 21.41292134, 34.58924301, 36.80046274, 38.44750295,\n",
       "       18.94691086, 22.90526717, 17.96414654, 20.52115371, 13.96939156,\n",
       "       19.57478807, 14.51537174, 18.18253861, 23.35115098, 14.58816909,\n",
       "       21.59491473, 18.91961185, 25.78076278, 19.49289104, 23.33295164,\n",
       "       28.5925607 , 21.43112068, 27.93738449, 25.56237071, 40.55862631,\n",
       "       44.73537469, 38.50210097, 30.52169067, 35.28081791, 24.96179251,\n",
       "       19.76588113, 32.78750842, 41.20470286, 40.38573259, 26.54513503,\n",
       "       20.72134645, 25.68066641, 32.29612626, 24.31571596, 25.45317467,\n",
       "       28.10117854, 20.80324347, 23.19645659, 23.51494503, 16.2352093 ,\n",
       "       16.34440534, 20.92153918, 21.9953002 , 23.87893182, 26.47233767,\n",
       "       24.37031398, 23.92443017, 28.64715872, 40.49492862, 20.92153918,\n",
       "       18.81041582, 33.16969455, 44.54428162, 32.06863452, 27.60069671,\n",
       "       30.88567746, 33.77027274, 41.75978271, 32.0140365 , 30.91297647,\n",
       "       15.9349202 , 29.16583989, 40.84071607, 33.31528926, 19.21080128,\n",
       "       18.62842242, 22.12269557, 24.83439713, 35.32631626, 26.83632446,\n",
       "       27.70989275, 31.46805632, 27.455102  , 24.32481563, 27.32770662,\n",
       "       36.50017364, 28.74725509, 34.90773145, 37.43743962, 29.83921545,\n",
       "       24.06092521, 22.03169888, 21.84060581, 22.8051708 , 25.08008821,\n",
       "       27.77359044, 30.38519563, 25.67156674, 21.0944329 , 20.02067188,\n",
       "       26.10835089, 24.9344935 , 18.02784423, 23.07816089, 29.41153097,\n",
       "       27.86458713, 25.30757996, 24.44311134, 28.87465046, 31.18596656,\n",
       "       25.54417137, 32.86030578, 27.6643944 , 25.71706509, 19.6839841 ,\n",
       "       10.59341411, 21.04893455, 20.14806726, 22.35928699, 25.09828755,\n",
       "       17.2543723 , 19.15620326, 17.95504687, 23.41484867, 20.96703753,\n",
       "       23.81523413, 23.36025065, 20.31186131, 17.28167131, 23.71513777,\n",
       "       23.86073248, 22.77787179, 20.69404744, 18.73761846, 22.96896485,\n",
       "       21.24912729, 17.26347197, 20.22086461, 22.81427047, 22.75967245,\n",
       "       20.27546263, 18.74671813, 18.98330954, 20.47565537, 19.80227981,\n",
       "       19.64758543, 31.23146491, 24.85259647, 26.27214494, 27.89188614,\n",
       "       20.06617023, 19.01060855, 24.6342044 , 25.71706509, 28.48336467,\n",
       "       24.39761299, 25.20748359, 18.88321317, 26.56333437, 16.87218618,\n",
       "       19.356396  , 21.86790482, 23.53314437, 21.0944329 , 20.95793786,\n",
       "       23.56044338, 22.22279194, 14.13318561, 18.14613993, 45.23585652,\n",
       "       -2.25531945, 10.50241741,  0.49278079, 10.5661151 , 26.15384924,\n",
       "       29.18403923, 21.9043035 , 18.80131615,  9.98373624,  2.99518994,\n",
       "       31.88664112, 25.84446047, 27.16391257, 23.39664933, 21.96800119,\n",
       "       28.74725509, 24.89809482, 15.71652813, 15.57093342,  5.08811397,\n",
       "       13.35971369,  7.67242015, 10.83910519,  9.74714483, 14.38797636,\n",
       "       17.32716966, 20.40285801, 11.1666933 , 21.6950111 , 18.91051218,\n",
       "       24.22471927, 23.62414107, 17.63655843, 14.96125555, 18.59202375,\n",
       "       19.82047915, 23.05996155, 23.6150414 , 14.0148899 , 15.67102978,\n",
       "       17.05417957,  2.99518994, 16.37170435, 16.45360137, 27.69169341,\n",
       "       17.72755513, 25.91725782,  7.45402808, 12.24955399,  6.46216408,\n",
       "       23.88803149, 27.05471653, 13.60540477, 19.54748906, 27.43690266,\n",
       "       23.67873909, 19.99337287, 16.73569113, 20.87604083, 15.98041855,\n",
       "       18.99240921, 18.4555287 , 21.77690813, 21.6950111 , 23.39664933,\n",
       "       23.1054599 , 27.51879968, 23.80613446, 23.90623083, 21.83150615,\n",
       "       25.66246707, 24.13372257, 21.32192464, 19.34729633, 16.54459807,\n",
       "       18.28263498, 23.63324074, 21.93160251, 24.35211464, 18.61022308,\n",
       "       24.11552323, 23.04176221, 22.22279194, 21.62221374, 23.7333371 ,\n",
       "       26.75442743, 25.89905848, 22.64137675, 32.6146147 , 26.56333437,\n",
       "       24.71610143, 19.72038278, 19.356396  , 22.67777542, 20.6758481 ,\n",
       "       26.31764329, 23.36025065, 22.82337014, 24.60690539, 21.84060581,\n",
       "       17.74575447, 19.50199071, 19.96607386, 19.2653993 , 17.32716966,\n",
       "       21.45841969, 22.02259921, 23.9153305 , 28.85645113, 14.72466414,\n",
       "       21.41292134, 24.34301497, 13.60540477, 21.62221374, 22.02259921,\n",
       "       22.14089491, 26.7635271 , 29.59352437, 17.77305348, 18.76491747,\n",
       "       22.77787179, 20.9761372 , 19.07430624, 14.97035522, 14.60636843,\n",
       "       11.68537447, 19.78408047, 19.78408047, 17.27257164, 19.2653993 ,\n",
       "       16.93588387, 14.38797636, 18.0642429 , 20.11166858, 16.01681723,\n",
       "       20.18446594, 25.33487897, 21.03073521, 28.82005245, 27.16391257,\n",
       "       20.21176495])"
      ]
     },
     "execution_count": 52,
     "metadata": {},
     "output_type": "execute_result"
    }
   ],
   "source": [
    "lm2.predict(X)"
   ]
  },
  {
   "cell_type": "code",
   "execution_count": 53,
   "id": "prime-circular",
   "metadata": {},
   "outputs": [
    {
     "data": {
      "text/plain": [
       "<seaborn.axisgrid.JointGrid at 0x272b04988b0>"
      ]
     },
     "execution_count": 53,
     "metadata": {},
     "output_type": "execute_result"
    },
    {
     "data": {
      "image/png": "[encoded data removed]",
      "text/plain": [
       "<Figure size 432x432 with 3 Axes>"
      ]
     },
     "metadata": {
      "needs_background": "light"
     },
     "output_type": "display_data"
    }
   ],
   "source": [
    "sns.jointplot(x=df['room_num'], y=df['price'], data=df, kind='reg')"
   ]
  },
  {
   "cell_type": "markdown",
   "id": "cloudy-working",
   "metadata": {},
   "source": [
    "* ### Multiple Linear Regression"
   ]
  },
  {
   "cell_type": "code",
   "execution_count": 54,
   "id": "recent-alberta",
   "metadata": {},
   "outputs": [],
   "source": [
    "X_multi = df.drop(\"price\",axis=1)"
   ]
  },
  {
   "cell_type": "code",
   "execution_count": 55,
   "id": "hispanic-possible",
   "metadata": {},
   "outputs": [
    {
     "data": {
      "text/html": [
       "<div>\n",
       "<style scoped>\n",
       "    .dataframe tbody tr th:only-of-type {\n",
       "        vertical-align: middle;\n",
       "    }\n",
       "\n",
       "    .dataframe tbody tr th {\n",
       "        vertical-align: top;\n",
       "    }\n",
       "\n",
       "    .dataframe thead th {\n",
       "        text-align: right;\n",
       "    }\n",
       "</style>\n",
       "<table border=\"1\" class=\"dataframe\">\n",
       "  <thead>\n",
       "    <tr style=\"text-align: right;\">\n",
       "      <th></th>\n",
       "      <th>crime_rate</th>\n",
       "      <th>resid_area</th>\n",
       "      <th>air_qual</th>\n",
       "      <th>room_num</th>\n",
       "      <th>age</th>\n",
       "      <th>teachers</th>\n",
       "      <th>poor_prop</th>\n",
       "      <th>n_hos_beds</th>\n",
       "      <th>n_hot_rooms</th>\n",
       "      <th>avg_dist</th>\n",
       "      <th>airport_YES</th>\n",
       "      <th>waterbody_Lake</th>\n",
       "      <th>waterbody_Lake and River</th>\n",
       "      <th>waterbody_River</th>\n",
       "    </tr>\n",
       "  </thead>\n",
       "  <tbody>\n",
       "    <tr>\n",
       "      <th>0</th>\n",
       "      <td>0.006300</td>\n",
       "      <td>32.31</td>\n",
       "      <td>0.538</td>\n",
       "      <td>6.575</td>\n",
       "      <td>65.2</td>\n",
       "      <td>24.7</td>\n",
       "      <td>4.98</td>\n",
       "      <td>5.480</td>\n",
       "      <td>11.19200</td>\n",
       "      <td>4.0875</td>\n",
       "      <td>1</td>\n",
       "      <td>0</td>\n",
       "      <td>0</td>\n",
       "      <td>1</td>\n",
       "    </tr>\n",
       "    <tr>\n",
       "      <th>1</th>\n",
       "      <td>0.026944</td>\n",
       "      <td>37.07</td>\n",
       "      <td>0.469</td>\n",
       "      <td>6.421</td>\n",
       "      <td>78.9</td>\n",
       "      <td>22.2</td>\n",
       "      <td>9.14</td>\n",
       "      <td>7.332</td>\n",
       "      <td>12.17280</td>\n",
       "      <td>4.9675</td>\n",
       "      <td>0</td>\n",
       "      <td>1</td>\n",
       "      <td>0</td>\n",
       "      <td>0</td>\n",
       "    </tr>\n",
       "    <tr>\n",
       "      <th>2</th>\n",
       "      <td>0.026924</td>\n",
       "      <td>37.07</td>\n",
       "      <td>0.469</td>\n",
       "      <td>7.185</td>\n",
       "      <td>61.1</td>\n",
       "      <td>22.2</td>\n",
       "      <td>4.03</td>\n",
       "      <td>7.394</td>\n",
       "      <td>46.19856</td>\n",
       "      <td>4.9675</td>\n",
       "      <td>0</td>\n",
       "      <td>0</td>\n",
       "      <td>0</td>\n",
       "      <td>0</td>\n",
       "    </tr>\n",
       "    <tr>\n",
       "      <th>3</th>\n",
       "      <td>0.031857</td>\n",
       "      <td>32.18</td>\n",
       "      <td>0.458</td>\n",
       "      <td>6.998</td>\n",
       "      <td>45.8</td>\n",
       "      <td>21.3</td>\n",
       "      <td>2.94</td>\n",
       "      <td>9.268</td>\n",
       "      <td>11.26720</td>\n",
       "      <td>6.0650</td>\n",
       "      <td>1</td>\n",
       "      <td>1</td>\n",
       "      <td>0</td>\n",
       "      <td>0</td>\n",
       "    </tr>\n",
       "    <tr>\n",
       "      <th>4</th>\n",
       "      <td>0.066770</td>\n",
       "      <td>32.18</td>\n",
       "      <td>0.458</td>\n",
       "      <td>7.147</td>\n",
       "      <td>54.2</td>\n",
       "      <td>21.3</td>\n",
       "      <td>5.33</td>\n",
       "      <td>8.824</td>\n",
       "      <td>11.28960</td>\n",
       "      <td>6.0625</td>\n",
       "      <td>0</td>\n",
       "      <td>1</td>\n",
       "      <td>0</td>\n",
       "      <td>0</td>\n",
       "    </tr>\n",
       "  </tbody>\n",
       "</table>\n",
       "</div>"
      ],
      "text/plain": [
       "   crime_rate  resid_area  air_qual  room_num   age  teachers  poor_prop  \\\n",
       "0    0.006300       32.31     0.538     6.575  65.2      24.7       4.98   \n",
       "1    0.026944       37.07     0.469     6.421  78.9      22.2       9.14   \n",
       "2    0.026924       37.07     0.469     7.185  61.1      22.2       4.03   \n",
       "3    0.031857       32.18     0.458     6.998  45.8      21.3       2.94   \n",
       "4    0.066770       32.18     0.458     7.147  54.2      21.3       5.33   \n",
       "\n",
       "   n_hos_beds  n_hot_rooms  avg_dist  airport_YES  waterbody_Lake  \\\n",
       "0       5.480     11.19200    4.0875            1               0   \n",
       "1       7.332     12.17280    4.9675            0               1   \n",
       "2       7.394     46.19856    4.9675            0               0   \n",
       "3       9.268     11.26720    6.0650            1               1   \n",
       "4       8.824     11.28960    6.0625            0               1   \n",
       "\n",
       "   waterbody_Lake and River  waterbody_River  \n",
       "0                         0                1  \n",
       "1                         0                0  \n",
       "2                         0                0  \n",
       "3                         0                0  \n",
       "4                         0                0  "
      ]
     },
     "execution_count": 55,
     "metadata": {},
     "output_type": "execute_result"
    }
   ],
   "source": [
    "X_multi.head()"
   ]
  },
  {
   "cell_type": "code",
   "execution_count": 56,
   "id": "utility-chance",
   "metadata": {},
   "outputs": [],
   "source": [
    "y_multi = df['price']"
   ]
  },
  {
   "cell_type": "code",
   "execution_count": 57,
   "id": "liberal-shareware",
   "metadata": {},
   "outputs": [],
   "source": [
    "X_multi_cons = sn.add_constant(X_multi)"
   ]
  },
  {
   "cell_type": "code",
   "execution_count": 58,
   "id": "accepting-drain",
   "metadata": {},
   "outputs": [
    {
     "data": {
      "text/html": [
       "<div>\n",
       "<style scoped>\n",
       "    .dataframe tbody tr th:only-of-type {\n",
       "        vertical-align: middle;\n",
       "    }\n",
       "\n",
       "    .dataframe tbody tr th {\n",
       "        vertical-align: top;\n",
       "    }\n",
       "\n",
       "    .dataframe thead th {\n",
       "        text-align: right;\n",
       "    }\n",
       "</style>\n",
       "<table border=\"1\" class=\"dataframe\">\n",
       "  <thead>\n",
       "    <tr style=\"text-align: right;\">\n",
       "      <th></th>\n",
       "      <th>const</th>\n",
       "      <th>crime_rate</th>\n",
       "      <th>resid_area</th>\n",
       "      <th>air_qual</th>\n",
       "      <th>room_num</th>\n",
       "      <th>age</th>\n",
       "      <th>teachers</th>\n",
       "      <th>poor_prop</th>\n",
       "      <th>n_hos_beds</th>\n",
       "      <th>n_hot_rooms</th>\n",
       "      <th>avg_dist</th>\n",
       "      <th>airport_YES</th>\n",
       "      <th>waterbody_Lake</th>\n",
       "      <th>waterbody_Lake and River</th>\n",
       "      <th>waterbody_River</th>\n",
       "    </tr>\n",
       "  </thead>\n",
       "  <tbody>\n",
       "    <tr>\n",
       "      <th>0</th>\n",
       "      <td>1.0</td>\n",
       "      <td>0.006300</td>\n",
       "      <td>32.31</td>\n",
       "      <td>0.538</td>\n",
       "      <td>6.575</td>\n",
       "      <td>65.2</td>\n",
       "      <td>24.7</td>\n",
       "      <td>4.98</td>\n",
       "      <td>5.480</td>\n",
       "      <td>11.19200</td>\n",
       "      <td>4.0875</td>\n",
       "      <td>1</td>\n",
       "      <td>0</td>\n",
       "      <td>0</td>\n",
       "      <td>1</td>\n",
       "    </tr>\n",
       "    <tr>\n",
       "      <th>1</th>\n",
       "      <td>1.0</td>\n",
       "      <td>0.026944</td>\n",
       "      <td>37.07</td>\n",
       "      <td>0.469</td>\n",
       "      <td>6.421</td>\n",
       "      <td>78.9</td>\n",
       "      <td>22.2</td>\n",
       "      <td>9.14</td>\n",
       "      <td>7.332</td>\n",
       "      <td>12.17280</td>\n",
       "      <td>4.9675</td>\n",
       "      <td>0</td>\n",
       "      <td>1</td>\n",
       "      <td>0</td>\n",
       "      <td>0</td>\n",
       "    </tr>\n",
       "    <tr>\n",
       "      <th>2</th>\n",
       "      <td>1.0</td>\n",
       "      <td>0.026924</td>\n",
       "      <td>37.07</td>\n",
       "      <td>0.469</td>\n",
       "      <td>7.185</td>\n",
       "      <td>61.1</td>\n",
       "      <td>22.2</td>\n",
       "      <td>4.03</td>\n",
       "      <td>7.394</td>\n",
       "      <td>46.19856</td>\n",
       "      <td>4.9675</td>\n",
       "      <td>0</td>\n",
       "      <td>0</td>\n",
       "      <td>0</td>\n",
       "      <td>0</td>\n",
       "    </tr>\n",
       "    <tr>\n",
       "      <th>3</th>\n",
       "      <td>1.0</td>\n",
       "      <td>0.031857</td>\n",
       "      <td>32.18</td>\n",
       "      <td>0.458</td>\n",
       "      <td>6.998</td>\n",
       "      <td>45.8</td>\n",
       "      <td>21.3</td>\n",
       "      <td>2.94</td>\n",
       "      <td>9.268</td>\n",
       "      <td>11.26720</td>\n",
       "      <td>6.0650</td>\n",
       "      <td>1</td>\n",
       "      <td>1</td>\n",
       "      <td>0</td>\n",
       "      <td>0</td>\n",
       "    </tr>\n",
       "    <tr>\n",
       "      <th>4</th>\n",
       "      <td>1.0</td>\n",
       "      <td>0.066770</td>\n",
       "      <td>32.18</td>\n",
       "      <td>0.458</td>\n",
       "      <td>7.147</td>\n",
       "      <td>54.2</td>\n",
       "      <td>21.3</td>\n",
       "      <td>5.33</td>\n",
       "      <td>8.824</td>\n",
       "      <td>11.28960</td>\n",
       "      <td>6.0625</td>\n",
       "      <td>0</td>\n",
       "      <td>1</td>\n",
       "      <td>0</td>\n",
       "      <td>0</td>\n",
       "    </tr>\n",
       "  </tbody>\n",
       "</table>\n",
       "</div>"
      ],
      "text/plain": [
       "   const  crime_rate  resid_area  air_qual  room_num   age  teachers  \\\n",
       "0    1.0    0.006300       32.31     0.538     6.575  65.2      24.7   \n",
       "1    1.0    0.026944       37.07     0.469     6.421  78.9      22.2   \n",
       "2    1.0    0.026924       37.07     0.469     7.185  61.1      22.2   \n",
       "3    1.0    0.031857       32.18     0.458     6.998  45.8      21.3   \n",
       "4    1.0    0.066770       32.18     0.458     7.147  54.2      21.3   \n",
       "\n",
       "   poor_prop  n_hos_beds  n_hot_rooms  avg_dist  airport_YES  waterbody_Lake  \\\n",
       "0       4.98       5.480     11.19200    4.0875            1               0   \n",
       "1       9.14       7.332     12.17280    4.9675            0               1   \n",
       "2       4.03       7.394     46.19856    4.9675            0               0   \n",
       "3       2.94       9.268     11.26720    6.0650            1               1   \n",
       "4       5.33       8.824     11.28960    6.0625            0               1   \n",
       "\n",
       "   waterbody_Lake and River  waterbody_River  \n",
       "0                         0                1  \n",
       "1                         0                0  \n",
       "2                         0                0  \n",
       "3                         0                0  \n",
       "4                         0                0  "
      ]
     },
     "execution_count": 58,
     "metadata": {},
     "output_type": "execute_result"
    }
   ],
   "source": [
    "X_multi_cons.head()"
   ]
  },
  {
   "cell_type": "code",
   "execution_count": 59,
   "id": "automotive-projector",
   "metadata": {},
   "outputs": [],
   "source": [
    "lm_multi = sn.OLS(y_multi, X_multi_cons).fit()"
   ]
  },
  {
   "cell_type": "code",
   "execution_count": 60,
   "id": "greek-leave",
   "metadata": {},
   "outputs": [
    {
     "data": {
      "text/html": [
       "<table class=\"simpletable\">\n",
       "<caption>OLS Regression Results</caption>\n",
       "<tr>\n",
       "  <th>Dep. Variable:</th>          <td>price</td>      <th>  R-squared:         </th> <td>   0.720</td> \n",
       "</tr>\n",
       "<tr>\n",
       "  <th>Model:</th>                   <td>OLS</td>       <th>  Adj. R-squared:    </th> <td>   0.712</td> \n",
       "</tr>\n",
       "<tr>\n",
       "  <th>Method:</th>             <td>Least Squares</td>  <th>  F-statistic:       </th> <td>   90.34</td> \n",
       "</tr>\n",
       "<tr>\n",
       "  <th>Date:</th>             <td>Wed, 24 Feb 2021</td> <th>  Prob (F-statistic):</th> <td>6.48e-126</td>\n",
       "</tr>\n",
       "<tr>\n",
       "  <th>Time:</th>                 <td>00:41:31</td>     <th>  Log-Likelihood:    </th> <td> -1517.0</td> \n",
       "</tr>\n",
       "<tr>\n",
       "  <th>No. Observations:</th>      <td>   506</td>      <th>  AIC:               </th> <td>   3064.</td> \n",
       "</tr>\n",
       "<tr>\n",
       "  <th>Df Residuals:</th>          <td>   491</td>      <th>  BIC:               </th> <td>   3127.</td> \n",
       "</tr>\n",
       "<tr>\n",
       "  <th>Df Model:</th>              <td>    14</td>      <th>                     </th>     <td> </td>    \n",
       "</tr>\n",
       "<tr>\n",
       "  <th>Covariance Type:</th>      <td>nonrobust</td>    <th>                     </th>     <td> </td>    \n",
       "</tr>\n",
       "</table>\n",
       "<table class=\"simpletable\">\n",
       "<tr>\n",
       "              <td></td>                <th>coef</th>     <th>std err</th>      <th>t</th>      <th>P>|t|</th>  <th>[0.025</th>    <th>0.975]</th>  \n",
       "</tr>\n",
       "<tr>\n",
       "  <th>const</th>                    <td>   -5.9316</td> <td>    5.226</td> <td>   -1.135</td> <td> 0.257</td> <td>  -16.199</td> <td>    4.336</td>\n",
       "</tr>\n",
       "<tr>\n",
       "  <th>crime_rate</th>               <td>    0.0193</td> <td>    0.348</td> <td>    0.055</td> <td> 0.956</td> <td>   -0.664</td> <td>    0.703</td>\n",
       "</tr>\n",
       "<tr>\n",
       "  <th>resid_area</th>               <td>   -0.0428</td> <td>    0.058</td> <td>   -0.744</td> <td> 0.457</td> <td>   -0.156</td> <td>    0.070</td>\n",
       "</tr>\n",
       "<tr>\n",
       "  <th>air_qual</th>                 <td>  -15.6437</td> <td>    3.993</td> <td>   -3.918</td> <td> 0.000</td> <td>  -23.490</td> <td>   -7.798</td>\n",
       "</tr>\n",
       "<tr>\n",
       "  <th>room_num</th>                 <td>    4.0002</td> <td>    0.426</td> <td>    9.390</td> <td> 0.000</td> <td>    3.163</td> <td>    4.837</td>\n",
       "</tr>\n",
       "<tr>\n",
       "  <th>age</th>                      <td>   -0.0051</td> <td>    0.014</td> <td>   -0.378</td> <td> 0.705</td> <td>   -0.032</td> <td>    0.022</td>\n",
       "</tr>\n",
       "<tr>\n",
       "  <th>teachers</th>                 <td>    1.0050</td> <td>    0.122</td> <td>    8.234</td> <td> 0.000</td> <td>    0.765</td> <td>    1.245</td>\n",
       "</tr>\n",
       "<tr>\n",
       "  <th>poor_prop</th>                <td>   -0.5787</td> <td>    0.053</td> <td>  -10.989</td> <td> 0.000</td> <td>   -0.682</td> <td>   -0.475</td>\n",
       "</tr>\n",
       "<tr>\n",
       "  <th>n_hos_beds</th>               <td>    0.3379</td> <td>    0.152</td> <td>    2.225</td> <td> 0.027</td> <td>    0.039</td> <td>    0.636</td>\n",
       "</tr>\n",
       "<tr>\n",
       "  <th>n_hot_rooms</th>              <td>    0.0928</td> <td>    0.082</td> <td>    1.130</td> <td> 0.259</td> <td>   -0.069</td> <td>    0.254</td>\n",
       "</tr>\n",
       "<tr>\n",
       "  <th>avg_dist</th>                 <td>   -1.2078</td> <td>    0.189</td> <td>   -6.407</td> <td> 0.000</td> <td>   -1.578</td> <td>   -0.837</td>\n",
       "</tr>\n",
       "<tr>\n",
       "  <th>airport_YES</th>              <td>    1.1355</td> <td>    0.454</td> <td>    2.500</td> <td> 0.013</td> <td>    0.243</td> <td>    2.028</td>\n",
       "</tr>\n",
       "<tr>\n",
       "  <th>waterbody_Lake</th>           <td>    0.2696</td> <td>    0.642</td> <td>    0.420</td> <td> 0.675</td> <td>   -0.991</td> <td>    1.531</td>\n",
       "</tr>\n",
       "<tr>\n",
       "  <th>waterbody_Lake and River</th> <td>   -0.6202</td> <td>    0.710</td> <td>   -0.873</td> <td> 0.383</td> <td>   -2.015</td> <td>    0.775</td>\n",
       "</tr>\n",
       "<tr>\n",
       "  <th>waterbody_River</th>          <td>   -0.2861</td> <td>    0.547</td> <td>   -0.523</td> <td> 0.601</td> <td>   -1.360</td> <td>    0.788</td>\n",
       "</tr>\n",
       "</table>\n",
       "<table class=\"simpletable\">\n",
       "<tr>\n",
       "  <th>Omnibus:</th>       <td>182.553</td> <th>  Durbin-Watson:     </th> <td>   0.989</td> \n",
       "</tr>\n",
       "<tr>\n",
       "  <th>Prob(Omnibus):</th> <td> 0.000</td>  <th>  Jarque-Bera (JB):  </th> <td> 827.931</td> \n",
       "</tr>\n",
       "<tr>\n",
       "  <th>Skew:</th>          <td> 1.552</td>  <th>  Prob(JB):          </th> <td>1.65e-180</td>\n",
       "</tr>\n",
       "<tr>\n",
       "  <th>Kurtosis:</th>      <td> 8.443</td>  <th>  Cond. No.          </th> <td>2.17e+03</td> \n",
       "</tr>\n",
       "</table><br/><br/>Notes:<br/>[1] Standard Errors assume that the covariance matrix of the errors is correctly specified.<br/>[2] The condition number is large, 2.17e+03. This might indicate that there are<br/>strong multicollinearity or other numerical problems."
      ],
      "text/plain": [
       "<class 'statsmodels.iolib.summary.Summary'>\n",
       "\"\"\"\n",
       "                            OLS Regression Results                            \n",
       "==============================================================================\n",
       "Dep. Variable:                  price   R-squared:                       0.720\n",
       "Model:                            OLS   Adj. R-squared:                  0.712\n",
       "Method:                 Least Squares   F-statistic:                     90.34\n",
       "Date:                Wed, 24 Feb 2021   Prob (F-statistic):          6.48e-126\n",
       "Time:                        00:41:31   Log-Likelihood:                -1517.0\n",
       "No. Observations:                 506   AIC:                             3064.\n",
       "Df Residuals:                     491   BIC:                             3127.\n",
       "Df Model:                          14                                         \n",
       "Covariance Type:            nonrobust                                         \n",
       "============================================================================================\n",
       "                               coef    std err          t      P>|t|      [0.025      0.975]\n",
       "--------------------------------------------------------------------------------------------\n",
       "const                       -5.9316      5.226     -1.135      0.257     -16.199       4.336\n",
       "crime_rate                   0.0193      0.348      0.055      0.956      -0.664       0.703\n",
       "resid_area                  -0.0428      0.058     -0.744      0.457      -0.156       0.070\n",
       "air_qual                   -15.6437      3.993     -3.918      0.000     -23.490      -7.798\n",
       "room_num                     4.0002      0.426      9.390      0.000       3.163       4.837\n",
       "age                         -0.0051      0.014     -0.378      0.705      -0.032       0.022\n",
       "teachers                     1.0050      0.122      8.234      0.000       0.765       1.245\n",
       "poor_prop                   -0.5787      0.053    -10.989      0.000      -0.682      -0.475\n",
       "n_hos_beds                   0.3379      0.152      2.225      0.027       0.039       0.636\n",
       "n_hot_rooms                  0.0928      0.082      1.130      0.259      -0.069       0.254\n",
       "avg_dist                    -1.2078      0.189     -6.407      0.000      -1.578      -0.837\n",
       "airport_YES                  1.1355      0.454      2.500      0.013       0.243       2.028\n",
       "waterbody_Lake               0.2696      0.642      0.420      0.675      -0.991       1.531\n",
       "waterbody_Lake and River    -0.6202      0.710     -0.873      0.383      -2.015       0.775\n",
       "waterbody_River             -0.2861      0.547     -0.523      0.601      -1.360       0.788\n",
       "==============================================================================\n",
       "Omnibus:                      182.553   Durbin-Watson:                   0.989\n",
       "Prob(Omnibus):                  0.000   Jarque-Bera (JB):              827.931\n",
       "Skew:                           1.552   Prob(JB):                    1.65e-180\n",
       "Kurtosis:                       8.443   Cond. No.                     2.17e+03\n",
       "==============================================================================\n",
       "\n",
       "Notes:\n",
       "[1] Standard Errors assume that the covariance matrix of the errors is correctly specified.\n",
       "[2] The condition number is large, 2.17e+03. This might indicate that there are\n",
       "strong multicollinearity or other numerical problems.\n",
       "\"\"\""
      ]
     },
     "execution_count": 60,
     "metadata": {},
     "output_type": "execute_result"
    }
   ],
   "source": [
    "lm_multi.summary()"
   ]
  },
  {
   "cell_type": "markdown",
   "id": "changed-radiation",
   "metadata": {},
   "source": [
    "###### The F_stat value is very low showing there is a strong colinearity\n",
    "* air_qual, room_num, teachers, poor_prop,avg_dist have P=0 ie least so there are the independent variables affecting most heavily on the dependent variable. So these are the variable most significant for the regression model we will be building"
   ]
  },
  {
   "cell_type": "code",
   "execution_count": 61,
   "id": "central-pollution",
   "metadata": {},
   "outputs": [],
   "source": [
    "lm3 = LinearRegression()"
   ]
  },
  {
   "cell_type": "code",
   "execution_count": 62,
   "id": "ready-delaware",
   "metadata": {},
   "outputs": [
    {
     "data": {
      "text/plain": [
       "LinearRegression()"
      ]
     },
     "execution_count": 62,
     "metadata": {},
     "output_type": "execute_result"
    }
   ],
   "source": [
    "lm3.fit(X_multi, y_multi)"
   ]
  },
  {
   "cell_type": "code",
   "execution_count": 63,
   "id": "designing-maryland",
   "metadata": {},
   "outputs": [
    {
     "name": "stdout",
     "output_type": "stream",
     "text": [
      "-5.931610206422292 [ 1.92695292e-02 -4.28113296e-02 -1.56436930e+01  4.00021855e+00\n",
      " -5.14301839e-03  1.00497052e+00 -5.78708446e-01  3.37946954e-01\n",
      "  9.28028853e-02 -1.20780895e+00  1.13547621e+00  2.69589116e-01\n",
      " -6.20166895e-01 -2.86083986e-01]\n"
     ]
    }
   ],
   "source": [
    " print(lm3.intercept_, lm3.coef_)"
   ]
  },
  {
   "cell_type": "markdown",
   "id": "tight-tablet",
   "metadata": {},
   "source": [
    " ###### Test Train Splitting"
   ]
  },
  {
   "cell_type": "code",
   "execution_count": 64,
   "id": "supported-complexity",
   "metadata": {},
   "outputs": [],
   "source": [
    "from sklearn.model_selection import train_test_split"
   ]
  },
  {
   "cell_type": "code",
   "execution_count": 65,
   "id": "indoor-abraham",
   "metadata": {},
   "outputs": [],
   "source": [
    "X_train, X_test, y_train, y_test = train_test_split(X_multi, y_multi, test_size=0.3, random_state=0)"
   ]
  },
  {
   "cell_type": "code",
   "execution_count": 66,
   "id": "consecutive-brake",
   "metadata": {},
   "outputs": [],
   "source": [
    "lm4 = LinearRegression()"
   ]
  },
  {
   "cell_type": "code",
   "execution_count": 67,
   "id": "angry-morning",
   "metadata": {},
   "outputs": [
    {
     "data": {
      "text/plain": [
       "LinearRegression()"
      ]
     },
     "execution_count": 67,
     "metadata": {},
     "output_type": "execute_result"
    }
   ],
   "source": [
    "lm4.fit(X_train, y_train)"
   ]
  },
  {
   "cell_type": "code",
   "execution_count": 68,
   "id": "historic-disposition",
   "metadata": {},
   "outputs": [],
   "source": [
    "y_test_4 = lm4.predict(X_test)"
   ]
  },
  {
   "cell_type": "code",
   "execution_count": 69,
   "id": "gentle-bonus",
   "metadata": {},
   "outputs": [],
   "source": [
    "y_train_4 = lm4.predict(X_train)"
   ]
  },
  {
   "cell_type": "code",
   "execution_count": 70,
   "id": "jewish-prize",
   "metadata": {},
   "outputs": [],
   "source": [
    "from sklearn.metrics import r2_score"
   ]
  },
  {
   "cell_type": "code",
   "execution_count": 71,
   "id": "dated-ivory",
   "metadata": {},
   "outputs": [
    {
     "data": {
      "text/plain": [
       "0.6502732505433477"
      ]
     },
     "execution_count": 71,
     "metadata": {},
     "output_type": "execute_result"
    }
   ],
   "source": [
    "r2_score(y_test, y_test_4)"
   ]
  },
  {
   "cell_type": "code",
   "execution_count": 72,
   "id": "through-clone",
   "metadata": {},
   "outputs": [
    {
     "data": {
      "text/plain": [
       "0.7442784665753364"
      ]
     },
     "execution_count": 72,
     "metadata": {},
     "output_type": "execute_result"
    }
   ],
   "source": [
    "r2_score(y_train, y_train_4 )"
   ]
  },
  {
   "cell_type": "code",
   "execution_count": 73,
   "id": "turkish-absolute",
   "metadata": {},
   "outputs": [],
   "source": [
    "import matplotlib.pyplot as plt"
   ]
  },
  {
   "cell_type": "markdown",
   "id": "respiratory-ferry",
   "metadata": {},
   "source": [
    "### We were able to predict the price with 65.027% accuracy on the test dataset"
   ]
  },
  {
   "cell_type": "markdown",
   "id": "above-sleep",
   "metadata": {},
   "source": [
    "##### Further improving our model perfomance by regularization using Ridge Regression and Subset selection using Lasso"
   ]
  },
  {
   "cell_type": "code",
   "execution_count": 74,
   "id": "mental-second",
   "metadata": {},
   "outputs": [],
   "source": [
    "from sklearn import preprocessing"
   ]
  },
  {
   "cell_type": "code",
   "execution_count": 75,
   "id": "irish-irrigation",
   "metadata": {},
   "outputs": [],
   "source": [
    "scaler = preprocessing.StandardScaler().fit(X_train)"
   ]
  },
  {
   "cell_type": "code",
   "execution_count": 76,
   "id": "danish-drama",
   "metadata": {},
   "outputs": [],
   "source": [
    "X_train_s = scaler.transform(X_train)"
   ]
  },
  {
   "cell_type": "code",
   "execution_count": 77,
   "id": "spectacular-actress",
   "metadata": {},
   "outputs": [],
   "source": [
    "X_test_s = scaler.transform(X_test)"
   ]
  },
  {
   "cell_type": "code",
   "execution_count": 78,
   "id": "super-bolivia",
   "metadata": {},
   "outputs": [],
   "source": [
    "from sklearn.linear_model import Ridge"
   ]
  },
  {
   "cell_type": "code",
   "execution_count": 79,
   "id": "based-heaven",
   "metadata": {},
   "outputs": [
    {
     "data": {
      "text/plain": [
       "Ridge(alpha=0.5)"
      ]
     },
     "execution_count": 79,
     "metadata": {},
     "output_type": "execute_result"
    }
   ],
   "source": [
    "lm_r = Ridge(alpha=0.5)\n",
    "lm_r.fit(X_train_s, y_train)"
   ]
  },
  {
   "cell_type": "code",
   "execution_count": 80,
   "id": "circular-affiliate",
   "metadata": {},
   "outputs": [
    {
     "data": {
      "text/plain": [
       "0.650167572641307"
      ]
     },
     "execution_count": 80,
     "metadata": {},
     "output_type": "execute_result"
    }
   ],
   "source": [
    "r2_score(y_test, lm_r.predict(X_test_s))"
   ]
  },
  {
   "cell_type": "code",
   "execution_count": 81,
   "id": "decreased-pantyhose",
   "metadata": {},
   "outputs": [],
   "source": [
    "from sklearn.model_selection import validation_curve"
   ]
  },
  {
   "cell_type": "code",
   "execution_count": 82,
   "id": "hawaiian-timber",
   "metadata": {},
   "outputs": [],
   "source": [
    "param_range = np.logspace(-2,8,100)"
   ]
  },
  {
   "cell_type": "code",
   "execution_count": 83,
   "id": "infinite-click",
   "metadata": {},
   "outputs": [
    {
     "name": "stderr",
     "output_type": "stream",
     "text": [
      "D:\\Anaconda\\envs\\conda1\\lib\\site-packages\\sklearn\\utils\\validation.py:70: FutureWarning: Pass param_name=alpha, param_range=[1.00000000e-02 1.26185688e-02 1.59228279e-02 2.00923300e-02\n",
      " 2.53536449e-02 3.19926714e-02 4.03701726e-02 5.09413801e-02\n",
      " 6.42807312e-02 8.11130831e-02 1.02353102e-01 1.29154967e-01\n",
      " 1.62975083e-01 2.05651231e-01 2.59502421e-01 3.27454916e-01\n",
      " 4.13201240e-01 5.21400829e-01 6.57933225e-01 8.30217568e-01\n",
      " 1.04761575e+00 1.32194115e+00 1.66810054e+00 2.10490414e+00\n",
      " 2.65608778e+00 3.35160265e+00 4.22924287e+00 5.33669923e+00\n",
      " 6.73415066e+00 8.49753436e+00 1.07226722e+01 1.35304777e+01\n",
      " 1.70735265e+01 2.15443469e+01 2.71858824e+01 3.43046929e+01\n",
      " 4.32876128e+01 5.46227722e+01 6.89261210e+01 8.69749003e+01\n",
      " 1.09749877e+02 1.38488637e+02 1.74752840e+02 2.20513074e+02\n",
      " 2.78255940e+02 3.51119173e+02 4.43062146e+02 5.59081018e+02\n",
      " 7.05480231e+02 8.90215085e+02 1.12332403e+03 1.41747416e+03\n",
      " 1.78864953e+03 2.25701972e+03 2.84803587e+03 3.59381366e+03\n",
      " 4.53487851e+03 5.72236766e+03 7.22080902e+03 9.11162756e+03\n",
      " 1.14975700e+04 1.45082878e+04 1.83073828e+04 2.31012970e+04\n",
      " 2.91505306e+04 3.67837977e+04 4.64158883e+04 5.85702082e+04\n",
      " 7.39072203e+04 9.32603347e+04 1.17681195e+05 1.48496826e+05\n",
      " 1.87381742e+05 2.36448941e+05 2.98364724e+05 3.76493581e+05\n",
      " 4.75081016e+05 5.99484250e+05 7.56463328e+05 9.54548457e+05\n",
      " 1.20450354e+06 1.51991108e+06 1.91791026e+06 2.42012826e+06\n",
      " 3.05385551e+06 3.85352859e+06 4.86260158e+06 6.13590727e+06\n",
      " 7.74263683e+06 9.77009957e+06 1.23284674e+07 1.55567614e+07\n",
      " 1.96304065e+07 2.47707636e+07 3.12571585e+07 3.94420606e+07\n",
      " 4.97702356e+07 6.28029144e+07 7.92482898e+07 1.00000000e+08] as keyword args. From version 1.0 (renaming of 0.25) passing these as positional arguments will result in an error\n",
      "  warnings.warn(f\"Pass {args_msg} as keyword args. From version \"\n"
     ]
    }
   ],
   "source": [
    "train_score, test_score = validation_curve(Ridge(), X_train_s, y_train, \"alpha\", param_range, scoring='r2')"
   ]
  },
  {
   "cell_type": "code",
   "execution_count": 84,
   "id": "graduate-alpha",
   "metadata": {},
   "outputs": [
    {
     "name": "stdout",
     "output_type": "stream",
     "text": [
      "[[7.43885909e-01 7.60519574e-01 7.33016401e-01 7.63143694e-01\n",
      "  7.36101751e-01]\n",
      " [7.43885908e-01 7.60519574e-01 7.33016401e-01 7.63143693e-01\n",
      "  7.36101750e-01]\n",
      " [7.43885906e-01 7.60519573e-01 7.33016400e-01 7.63143692e-01\n",
      "  7.36101749e-01]\n",
      " [7.43885904e-01 7.60519571e-01 7.33016398e-01 7.63143691e-01\n",
      "  7.36101747e-01]\n",
      " [7.43885900e-01 7.60519569e-01 7.33016396e-01 7.63143689e-01\n",
      "  7.36101745e-01]\n",
      " [7.43885894e-01 7.60519566e-01 7.33016392e-01 7.63143685e-01\n",
      "  7.36101741e-01]\n",
      " [7.43885885e-01 7.60519560e-01 7.33016385e-01 7.63143680e-01\n",
      "  7.36101735e-01]\n",
      " [7.43885869e-01 7.60519551e-01 7.33016375e-01 7.63143671e-01\n",
      "  7.36101726e-01]\n",
      " [7.43885845e-01 7.60519537e-01 7.33016359e-01 7.63143657e-01\n",
      "  7.36101710e-01]\n",
      " [7.43885807e-01 7.60519515e-01 7.33016333e-01 7.63143634e-01\n",
      "  7.36101686e-01]\n",
      " [7.43885745e-01 7.60519480e-01 7.33016292e-01 7.63143599e-01\n",
      "  7.36101648e-01]\n",
      " [7.43885648e-01 7.60519423e-01 7.33016227e-01 7.63143542e-01\n",
      "  7.36101586e-01]\n",
      " [7.43885493e-01 7.60519334e-01 7.33016124e-01 7.63143452e-01\n",
      "  7.36101488e-01]\n",
      " [7.43885247e-01 7.60519191e-01 7.33015960e-01 7.63143308e-01\n",
      "  7.36101333e-01]\n",
      " [7.43884857e-01 7.60518965e-01 7.33015698e-01 7.63143080e-01\n",
      "  7.36101086e-01]\n",
      " [7.43884237e-01 7.60518605e-01 7.33015284e-01 7.63142718e-01\n",
      "  7.36100695e-01]\n",
      " [7.43883255e-01 7.60518034e-01 7.33014625e-01 7.63142144e-01\n",
      "  7.36100073e-01]\n",
      " [7.43881700e-01 7.60517129e-01 7.33013582e-01 7.63141232e-01\n",
      "  7.36099087e-01]\n",
      " [7.43879242e-01 7.60515696e-01 7.33011929e-01 7.63139787e-01\n",
      "  7.36097526e-01]\n",
      " [7.43875362e-01 7.60513429e-01 7.33009315e-01 7.63137501e-01\n",
      "  7.36095057e-01]\n",
      " [7.43869253e-01 7.60509848e-01 7.33005187e-01 7.63133889e-01\n",
      "  7.36091160e-01]\n",
      " [7.43859661e-01 7.60504206e-01 7.32998685e-01 7.63128192e-01\n",
      "  7.36085021e-01]\n",
      " [7.43844650e-01 7.60495336e-01 7.32988468e-01 7.63119228e-01\n",
      "  7.36075376e-01]\n",
      " [7.43821263e-01 7.60481439e-01 7.32972466e-01 7.63105167e-01\n",
      "  7.36060274e-01]\n",
      " [7.43785015e-01 7.60459747e-01 7.32947506e-01 7.63083188e-01\n",
      "  7.36036724e-01]\n",
      " [7.43729193e-01 7.60426048e-01 7.32908764e-01 7.63048985e-01\n",
      "  7.36000183e-01]\n",
      " [7.43643888e-01 7.60373988e-01 7.32848989e-01 7.62996039e-01\n",
      "  7.35943831e-01]\n",
      " [7.43514725e-01 7.60294103e-01 7.32757422e-01 7.62914596e-01\n",
      "  7.35857559e-01]\n",
      " [7.43321262e-01 7.60172472e-01 7.32618343e-01 7.62790248e-01\n",
      "  7.35726620e-01]\n",
      " [7.43035098e-01 7.59988942e-01 7.32409182e-01 7.62602020e-01\n",
      "  7.35529893e-01]\n",
      " [7.42617768e-01 7.59714791e-01 7.32098185e-01 7.62319874e-01\n",
      "  7.35237738e-01]\n",
      " [7.42018580e-01 7.59309775e-01 7.31641624e-01 7.61901526e-01\n",
      "  7.34809486e-01]\n",
      " [7.41172502e-01 7.58718410e-01 7.30980620e-01 7.61288485e-01\n",
      "  7.34190603e-01]\n",
      " [7.39998048e-01 7.57865328e-01 7.30037593e-01 7.60401193e-01\n",
      "  7.33309560e-01]\n",
      " [7.38394803e-01 7.56649430e-01 7.28712255e-01 7.59133079e-01\n",
      "  7.32074281e-01]\n",
      " [7.36239820e-01 7.54936595e-01 7.26876874e-01 7.57343305e-01\n",
      "  7.30367799e-01]\n",
      " [7.33381901e-01 7.52550850e-01 7.24370427e-01 7.54848056e-01\n",
      "  7.28042504e-01]\n",
      " [7.29633131e-01 7.49264596e-01 7.20991429e-01 7.51410656e-01\n",
      "  7.24912400e-01]\n",
      " [7.24758112e-01 7.44789589e-01 7.16490022e-01 7.46731820e-01\n",
      "  7.20743413e-01]\n",
      " [7.18463236e-01 7.38771861e-01 7.10561411e-01 7.40442878e-01\n",
      "  7.15243213e-01]\n",
      " [7.10390417e-01 7.30794956e-01 7.02844400e-01 7.32106607e-01\n",
      "  7.08053986e-01]\n",
      " [7.00121154e-01 7.20395874e-01 6.92929872e-01 7.21231199e-01\n",
      "  6.98753410e-01]\n",
      " [6.87196297e-01 7.07096207e-01 6.80383095e-01 7.07301801e-01\n",
      "  6.86869467e-01]\n",
      " [6.71153721e-01 6.90446739e-01 6.64780236e-01 6.89829838e-01\n",
      "  6.71912685e-01]\n",
      " [6.51580437e-01 6.70078409e-01 6.45754033e-01 6.68413829e-01\n",
      "  6.53424691e-01]\n",
      " [6.28169602e-01 6.45748728e-01 6.23038992e-01 6.42799315e-01\n",
      "  6.31036160e-01]\n",
      " [6.00770122e-01 6.17373695e-01 5.96506221e-01 6.12924205e-01\n",
      "  6.04523439e-01]\n",
      " [5.69419643e-01 5.85042152e-01 5.66183627e-01 5.78941500e-01\n",
      "  5.73854037e-01]\n",
      " [5.34359511e-01 5.49018684e-01 5.32265791e-01 5.41221179e-01\n",
      "  5.39216491e-01]\n",
      " [4.96037111e-01 5.09745472e-01 4.95122285e-01 5.00339916e-01\n",
      "  5.01035288e-01]\n",
      " [4.55100699e-01 4.67847767e-01 4.55308472e-01 4.57065017e-01\n",
      "  4.59971578e-01]\n",
      " [4.12384278e-01 4.24134807e-01 4.13570895e-01 4.12329554e-01\n",
      "  4.16905024e-01]\n",
      " [3.68872312e-01 3.79578421e-01 3.70829907e-01 3.67187908e-01\n",
      "  3.72887615e-01]\n",
      " [3.25634976e-01 3.35254761e-01 3.28124889e-01 3.22743775e-01\n",
      "  3.29064005e-01]\n",
      " [2.83736257e-01 2.92250620e-01 2.86522654e-01 2.80055669e-01\n",
      "  2.86565551e-01]\n",
      " [2.44131987e-01 2.51554276e-01 2.47008166e-01 2.40038985e-01\n",
      "  2.46398978e-01]\n",
      " [2.07582481e-01 2.13959630e-01 2.10386163e-01 2.03388715e-01\n",
      "  2.09355712e-01]\n",
      " [1.74599996e-01 1.80007037e-01 1.77217824e-01 1.70539990e-01\n",
      "  1.75961147e-01]\n",
      " [1.45438521e-01 1.49969602e-01 1.47802438e-01 1.41670215e-01\n",
      "  1.46469080e-01]\n",
      " [1.20120087e-01 1.23878929e-01 1.22199101e-01 1.16734327e-01\n",
      "  1.20893306e-01]\n",
      " [9.84839744e-02 1.01575650e-01 1.00274390e-01 9.55186267e-02\n",
      "  9.90612728e-02]\n",
      " [8.02439618e-02 8.27688442e-02 8.17601561e-02 7.76989440e-02\n",
      "  8.06743742e-02]\n",
      " [6.50421670e-02 6.70921085e-02 6.63089989e-02 6.28929266e-02\n",
      "  6.53635039e-02]\n",
      " [5.24929732e-02 5.41493634e-02 5.35401351e-02 5.07012506e-02\n",
      "  5.27336940e-02]\n",
      " [4.22148906e-02 4.35480990e-02 4.30730668e-02 4.07365460e-02\n",
      "  4.23960793e-02]\n",
      " [3.38510802e-02 3.49208086e-02 3.45495685e-02 3.26413106e-02\n",
      "  3.39882117e-02]\n",
      " [2.70806681e-02 2.79368309e-02 2.76460799e-02 2.60971661e-02\n",
      "  2.71850544e-02]\n",
      " [2.16233390e-02 2.23071939e-02 2.20790369e-02 2.08279626e-02\n",
      "  2.17032494e-02]\n",
      " [1.72394677e-02 1.77848136e-02 1.76054682e-02 1.65989096e-02\n",
      "  1.73009657e-02]\n",
      " [1.37275768e-02 1.41619091e-02 1.40207251e-02 1.32134113e-02\n",
      "  1.37751320e-02]\n",
      " [1.09204138e-02 1.12659772e-02 1.11546964e-02 1.05087891e-02\n",
      "  1.09573425e-02]\n",
      " [8.68050769e-03 8.95522106e-03 8.86741918e-03 8.35166429e-03\n",
      "  8.70928882e-03]\n",
      " [6.89573829e-03 7.11398649e-03 7.04465067e-03 6.63346520e-03\n",
      "  6.91823858e-03]\n",
      " [5.47521439e-03 5.64851421e-03 5.59372263e-03 5.26631159e-03\n",
      "  5.49284979e-03]\n",
      " [4.34560491e-03 4.48315733e-03 4.43983460e-03 4.17938648e-03\n",
      "  4.35945672e-03]\n",
      " [3.44796807e-03 3.55711149e-03 3.52284133e-03 3.31582248e-03\n",
      "  3.45886702e-03]\n",
      " [2.73506789e-03 2.82164741e-03 2.79452826e-03 2.63007994e-03\n",
      "  2.74365564e-03]\n",
      " [2.16913780e-03 2.23780418e-03 2.21633754e-03 2.08576989e-03\n",
      "  2.17591224e-03]\n",
      " [1.72003801e-03 1.77448863e-03 1.75749232e-03 1.65386542e-03\n",
      "  1.72538697e-03]\n",
      " [1.36375040e-03 1.40692276e-03 1.39346332e-03 1.31124374e-03\n",
      "  1.36797697e-03]\n",
      " [1.08115723e-03 1.11538390e-03 1.10472372e-03 1.03950510e-03\n",
      "  1.08449893e-03]\n",
      " [8.57055253e-04 8.84187668e-04 8.75743553e-04 8.24020551e-04\n",
      "  8.59698588e-04]\n",
      " [6.79362890e-04 7.00870120e-04 6.94180753e-04 6.53167052e-04\n",
      "  6.81454605e-04]\n",
      " [5.38484790e-04 5.55532203e-04 5.50232535e-04 5.17714728e-04\n",
      "  5.40140501e-04]\n",
      " [4.26803639e-04 4.40315496e-04 4.36116567e-04 4.10337243e-04\n",
      "  4.28114543e-04]\n",
      " [3.38274571e-04 3.48983788e-04 3.45656818e-04 3.25221164e-04\n",
      "  3.39312674e-04]\n",
      " [2.68101930e-04 2.76589620e-04 2.73953435e-04 2.57754772e-04\n",
      "  2.68924127e-04]\n",
      " [2.12481971e-04 2.19208834e-04 2.17119943e-04 2.04280420e-04\n",
      "  2.13133247e-04]\n",
      " [1.68398238e-04 1.73729485e-04 1.72074225e-04 1.61897640e-04\n",
      "  1.68914173e-04]\n",
      " [1.33458948e-04 1.37684073e-04 1.36372402e-04 1.28306702e-04\n",
      "  1.33867698e-04]\n",
      " [1.05767843e-04 1.09116310e-04 1.08076893e-04 1.01684378e-04\n",
      "  1.06091696e-04]\n",
      " [8.38216623e-05 8.64753446e-05 8.56516621e-05 8.05853360e-05\n",
      "  8.40782630e-05]\n",
      " [6.64287760e-05 6.85318241e-05 6.78790932e-05 6.38638857e-05\n",
      "  6.66320980e-05]\n",
      " [5.26446375e-05 5.43112986e-05 5.37940353e-05 5.06119071e-05\n",
      "  5.28057481e-05]\n",
      " [4.17205832e-05 4.30414034e-05 4.26314904e-05 4.01096172e-05\n",
      "  4.18482490e-05]\n",
      " [3.30632307e-05 3.41099706e-05 3.37851274e-05 3.17865288e-05\n",
      "  3.31643963e-05]\n",
      " [2.62022848e-05 2.70318161e-05 2.67743871e-05 2.51904960e-05\n",
      "  2.62824522e-05]\n",
      " [2.07650133e-05 2.14224076e-05 2.12184017e-05 1.99631726e-05\n",
      "  2.08285417e-05]\n",
      " [1.64560126e-05 1.69769894e-05 1.68153197e-05 1.58205579e-05\n",
      "  1.65063559e-05]\n",
      " [1.30411680e-05 1.34540351e-05 1.33259155e-05 1.25375750e-05\n",
      "  1.30810631e-05]]\n",
      "[[ 7.16490217e-01  6.03623469e-01  7.81528069e-01  6.85713945e-01\n",
      "   7.65188580e-01]\n",
      " [ 7.16495790e-01  6.03626358e-01  7.81528390e-01  6.85712720e-01\n",
      "   7.65187818e-01]\n",
      " [ 7.16502821e-01  6.03630002e-01  7.81528796e-01  6.85711174e-01\n",
      "   7.65186855e-01]\n",
      " [ 7.16511691e-01  6.03634600e-01  7.81529307e-01  6.85709223e-01\n",
      "   7.65185641e-01]\n",
      " [ 7.16522879e-01  6.03640402e-01  7.81529951e-01  6.85706761e-01\n",
      "   7.65184107e-01]\n",
      " [ 7.16536992e-01  6.03647721e-01  7.81530763e-01  6.85703655e-01\n",
      "   7.65182172e-01]\n",
      " [ 7.16554790e-01  6.03656956e-01  7.81531786e-01  6.85699735e-01\n",
      "   7.65179729e-01]\n",
      " [ 7.16577233e-01  6.03668606e-01  7.81533073e-01  6.85694789e-01\n",
      "   7.65176644e-01]\n",
      " [ 7.16605529e-01  6.03683303e-01  7.81534692e-01  6.85688549e-01\n",
      "   7.65172749e-01]\n",
      " [ 7.16641195e-01  6.03701841e-01  7.81536727e-01  6.85680675e-01\n",
      "   7.65167830e-01]\n",
      " [ 7.16686139e-01  6.03725222e-01  7.81539282e-01  6.85670740e-01\n",
      "   7.65161615e-01]\n",
      " [ 7.16742753e-01  6.03754710e-01  7.81542486e-01  6.85658204e-01\n",
      "   7.65153762e-01]\n",
      " [ 7.16814036e-01  6.03791891e-01  7.81546497e-01  6.85642388e-01\n",
      "   7.65143835e-01]\n",
      " [ 7.16903738e-01  6.03838766e-01  7.81551507e-01  6.85622435e-01\n",
      "   7.65131281e-01]\n",
      " [ 7.17016536e-01  6.03897846e-01  7.81557748e-01  6.85597261e-01\n",
      "   7.65115394e-01]\n",
      " [ 7.17158248e-01  6.03972289e-01  7.81565496e-01  6.85565504e-01\n",
      "   7.65095278e-01]\n",
      " [ 7.17336084e-01  6.04066052e-01  7.81575069e-01  6.85525446e-01\n",
      "   7.65069783e-01]\n",
      " [ 7.17558933e-01  6.04184096e-01  7.81586828e-01  6.85474919e-01\n",
      "   7.65037436e-01]\n",
      " [ 7.17837684e-01  6.04332622e-01  7.81601158e-01  6.85411197e-01\n",
      "   7.64996342e-01]\n",
      " [ 7.18185573e-01  6.04519365e-01  7.81618442e-01  6.85330843e-01\n",
      "   7.64944053e-01]\n",
      " [ 7.18618520e-01  6.04753946e-01  7.81638996e-01  6.85229537e-01\n",
      "   7.64877391e-01]\n",
      " [ 7.19155409e-01  6.05048293e-01  7.81662964e-01  6.85101844e-01\n",
      "   7.64792209e-01]\n",
      " [ 7.19818246e-01  6.05417129e-01  7.81690140e-01  6.84940936e-01\n",
      "   7.64683073e-01]\n",
      " [ 7.20632057e-01  6.05878535e-01  7.81719670e-01  6.84738250e-01\n",
      "   7.64542815e-01]\n",
      " [ 7.21624371e-01  6.06454577e-01  7.81749591e-01  6.84483053e-01\n",
      "   7.64361940e-01]\n",
      " [ 7.22824044e-01  6.07171995e-01  7.81776116e-01  6.84161923e-01\n",
      "   7.64127813e-01]\n",
      " [ 7.24259162e-01  6.08062905e-01  7.81792572e-01  6.83758109e-01\n",
      "   7.63823573e-01]\n",
      " [ 7.25953723e-01  6.09165493e-01  7.81787862e-01  6.83250752e-01\n",
      "   7.63426707e-01]\n",
      " [ 7.27922854e-01  6.10524604e-01  7.81744311e-01  6.82613946e-01\n",
      "   7.62907208e-01]\n",
      " [ 7.30166537e-01  6.12192103e-01  7.81634767e-01  6.81815588e-01\n",
      "   7.62225294e-01]\n",
      " [ 7.32662074e-01  6.14226766e-01  7.81418858e-01  6.80815967e-01\n",
      "   7.61328684e-01]\n",
      " [ 7.35356031e-01  6.16693252e-01  7.81038394e-01  6.79565974e-01\n",
      "   7.60149548e-01]\n",
      " [ 7.38156768e-01  6.19659351e-01  7.80411998e-01  6.78004759e-01\n",
      "   7.58601314e-01]\n",
      " [ 7.40928874e-01  6.23190175e-01  7.79429189e-01  6.76056566e-01\n",
      "   7.56575614e-01]\n",
      " [ 7.43490462e-01  6.27337345e-01  7.77944157e-01  6.73626386e-01\n",
      "   7.53939659e-01]\n",
      " [ 7.45613379e-01  6.32120898e-01  7.75769537e-01  6.70594084e-01\n",
      "   7.50534247e-01]\n",
      " [ 7.47025231e-01  6.37502122e-01  7.72670418e-01  6.66806840e-01\n",
      "   7.46172448e-01]\n",
      " [ 7.47411358e-01  6.43347547e-01  7.68359090e-01  6.62070336e-01\n",
      "   7.40638888e-01]\n",
      " [ 7.46415329e-01  6.49388150e-01  7.62491655e-01  6.56140075e-01\n",
      "   7.33689712e-01]\n",
      " [ 7.43638288e-01  6.55182705e-01  7.54668931e-01  6.48715491e-01\n",
      "   7.25053757e-01]\n",
      " [ 7.38639993e-01  6.60098577e-01  7.44445474e-01  6.39440728e-01\n",
      "   7.14436189e-01]\n",
      " [ 7.30946419e-01  6.63324153e-01  7.31351230e-01  6.27916357e-01\n",
      "   7.01526387e-01]\n",
      " [ 7.20068896e-01  6.63922498e-01  7.14928729e-01  6.13725181e-01\n",
      "   6.86011629e-01]\n",
      " [ 7.05537060e-01  6.60924648e-01  6.94784188e-01  5.96472064e-01\n",
      "   6.67596834e-01]\n",
      " [ 6.86943008e-01  6.53446131e-01  6.70644254e-01  5.75833075e-01\n",
      "   6.46028601e-01]\n",
      " [ 6.63989062e-01  6.40798256e-01  6.42404701e-01  5.51605087e-01\n",
      "   6.21120271e-01]\n",
      " [ 6.36529830e-01  6.22564942e-01  6.10157595e-01  5.23745995e-01\n",
      "   5.92775227e-01]\n",
      " [ 6.04602597e-01  5.98630331e-01  5.74191309e-01  4.92399249e-01\n",
      "   5.61008635e-01]\n",
      " [ 5.68446547e-01  5.69165995e-01  5.34969831e-01  4.57902439e-01\n",
      "   5.25970967e-01]\n",
      " [ 5.28515374e-01  5.34603907e-01  4.93105834e-01  4.20783455e-01\n",
      "   4.87975989e-01]\n",
      " [ 4.85484667e-01  4.95618856e-01  4.49339249e-01  3.81746087e-01\n",
      "   4.47529104e-01]\n",
      " [ 4.40246288e-01  4.53122443e-01  4.04520797e-01  3.41641417e-01\n",
      "   4.05342013e-01]\n",
      " [ 3.93875188e-01  4.08247136e-01  3.59587794e-01  3.01418391e-01\n",
      "   3.62315008e-01]\n",
      " [ 3.47557944e-01  3.62292740e-01  3.15518080e-01  2.62051536e-01\n",
      "   3.19475280e-01]\n",
      " [ 3.02487331e-01  3.16624793e-01  2.73259094e-01  2.24454253e-01\n",
      "   2.77877066e-01]\n",
      " [ 2.59744339e-01  2.72541804e-01  2.33644929e-01  1.89395537e-01\n",
      "   2.38486963e-01]\n",
      " [ 2.20196844e-01  2.31146620e-01  1.97323337e-01  1.57439349e-01\n",
      "   2.02084632e-01]\n",
      " [ 1.84438203e-01  1.93255805e-01  1.64711918e-01  1.28918531e-01\n",
      "   1.69202079e-01]\n",
      " [ 1.52774085e-01  1.59364243e-01  1.35991398e-01  1.03943802e-01\n",
      "   1.40109380e-01]\n",
      " [ 1.25250787e-01  1.29662065e-01  1.11131488e-01  8.24390435e-02\n",
      "   1.14839984e-01]\n",
      " [ 1.01709488e-01  1.04087660e-01  8.99372438e-02  6.41900813e-02\n",
      "   9.32405076e-02]\n",
      " [ 8.18497327e-02  8.23967966e-02  7.21024510e-02  4.88952100e-02\n",
      "   7.50291192e-02]\n",
      " [ 6.52892578e-02  6.42313851e-02  5.72595783e-02  3.62094400e-02\n",
      "   5.98504490e-02]\n",
      " [ 5.16128878e-02  4.91777907e-02  4.50203233e-02  2.57786585e-02\n",
      "   4.73203067e-02]\n",
      " [ 4.04080792e-02  3.68106410e-02  3.50048253e-02  1.72631326e-02\n",
      "   3.70580501e-02]\n",
      " [ 3.12879003e-02  2.67222454e-02  2.68602649e-02  1.03516983e-02\n",
      "   2.87073962e-02]\n",
      " [ 2.39037986e-02  1.85399385e-02  2.02708741e-02  4.76875158e-03\n",
      "   2.19478847e-02]\n",
      " [ 1.79509074e-02  1.19343717e-02  1.49617031e-02  2.76203630e-04\n",
      "   1.64995402e-02]\n",
      " [ 1.31683878e-02  6.62162596e-03  1.06982674e-02 -3.32776301e-03\n",
      "   1.21230321e-02]\n",
      " [ 9.33678755e-03  2.36148640e-03  7.28375381e-03 -6.21174524e-03\n",
      "   8.61714262e-03]\n",
      " [ 6.27384776e-03 -1.04639816e-03  4.55499350e-03 -8.51500540e-03\n",
      "   5.81484703e-03]\n",
      " [ 3.82971066e-03 -3.76729621e-03  2.37800375e-03 -1.03515664e-02\n",
      "   3.57887201e-03]\n",
      " [ 1.88212064e-03 -5.93637282e-03  6.43591143e-04 -1.18141443e-02\n",
      "   1.79726601e-03]\n",
      " [ 3.31949963e-04 -7.66343542e-03 -7.36711614e-04 -1.29777227e-02\n",
      "   3.79280219e-04]\n",
      " [-9.00790282e-04 -9.03722449e-03 -1.83424799e-03 -1.39026863e-02\n",
      "  -7.48297794e-04]\n",
      " [-1.88040122e-03 -1.01291605e-02 -2.70634217e-03 -1.46374998e-02\n",
      "  -1.64431190e-03]\n",
      " [-2.65841871e-03 -1.09965383e-02 -3.39892127e-03 -1.52209585e-02\n",
      "  -2.35591790e-03]\n",
      " [-3.27605029e-03 -1.16852037e-02 -3.94869751e-03 -1.56840521e-02\n",
      "  -2.92081718e-03]\n",
      " [-3.76618378e-03 -1.22317670e-02 -4.38496435e-03 -1.60514942e-02\n",
      "  -3.36909677e-03]\n",
      " [-4.15502836e-03 -1.26654173e-02 -4.73106236e-03 -1.63429678e-02\n",
      "  -3.72473230e-03]\n",
      " [-4.46344657e-03 -1.30093975e-02 -5.00556805e-03 -1.65741331e-02\n",
      "  -4.00680738e-03]\n",
      " [-4.70802966e-03 -1.32821969e-02 -5.22325305e-03 -1.67574391e-02\n",
      "  -4.23049796e-03]\n",
      " [-4.90196251e-03 -1.34985122e-02 -5.39585517e-03 -1.69027761e-02\n",
      "  -4.40786377e-03]\n",
      " [-5.05571693e-03 -1.36700177e-02 -5.53269626e-03 -1.70179972e-02\n",
      "  -4.54848275e-03]\n",
      " [-5.17760612e-03 -1.38059828e-02 -5.64117622e-03 -1.71093356e-02\n",
      "  -4.65995835e-03]\n",
      " [-5.27422726e-03 -1.39137642e-02 -5.72716719e-03 -1.71817372e-02\n",
      "  -4.74832439e-03]\n",
      " [-5.35081422e-03 -1.39991988e-02 -5.79532766e-03 -1.72391251e-02\n",
      "  -4.81836775e-03]\n",
      " [-5.41151835e-03 -1.40669166e-02 -5.84935253e-03 -1.72846109e-02\n",
      "  -4.87388520e-03]\n",
      " [-5.45963179e-03 -1.41205896e-02 -5.89217188e-03 -1.73206619e-02\n",
      "  -4.91788767e-03]\n",
      " [-5.49776493e-03 -1.41631294e-02 -5.92610898e-03 -1.73492345e-02\n",
      "  -4.95276254e-03]\n",
      " [-5.52798733e-03 -1.41968446e-02 -5.95300574e-03 -1.73718794e-02\n",
      "  -4.98040258e-03]\n",
      " [-5.55193967e-03 -1.42235652e-02 -5.97432235e-03 -1.73898262e-02\n",
      "  -5.00230828e-03]\n",
      " [-5.57092249e-03 -1.42447420e-02 -5.99121626e-03 -1.74040494e-02\n",
      "  -5.01966909e-03]\n",
      " [-5.58596669e-03 -1.42615250e-02 -6.00460494e-03 -1.74153215e-02\n",
      "  -5.03342780e-03]\n",
      " [-5.59788935e-03 -1.42748258e-02 -6.01521559e-03 -1.74242547e-02\n",
      "  -5.04433170e-03]\n",
      " [-5.60733811e-03 -1.42853667e-02 -6.02362456e-03 -1.74313342e-02\n",
      "  -5.05297308e-03]\n",
      " [-5.61482624e-03 -1.42937204e-02 -6.03028865e-03 -1.74369448e-02\n",
      "  -5.05982137e-03]\n",
      " [-5.62076056e-03 -1.43003406e-02 -6.03556992e-03 -1.74413911e-02\n",
      "  -5.06524861e-03]\n",
      " [-5.62546346e-03 -1.43055872e-02 -6.03975529e-03 -1.74449147e-02\n",
      "  -5.06954966e-03]\n",
      " [-5.62919047e-03 -1.43097450e-02 -6.04307215e-03 -1.74477072e-02\n",
      "  -5.07295820e-03]]\n"
     ]
    }
   ],
   "source": [
    "print(train_score)\n",
    "print(test_score)"
   ]
  },
  {
   "cell_type": "code",
   "execution_count": 86,
   "id": "vocational-citizen",
   "metadata": {},
   "outputs": [],
   "source": [
    "train_mean = np.mean(train_score, axis=1)\n",
    "test_mean = np.mean(test_score, axis=1)"
   ]
  },
  {
   "cell_type": "code",
   "execution_count": 87,
   "id": "athletic-parent",
   "metadata": {},
   "outputs": [
    {
     "data": {
      "text/plain": [
       "0.7152676017505113"
      ]
     },
     "execution_count": 87,
     "metadata": {},
     "output_type": "execute_result"
    }
   ],
   "source": [
    "max(test_mean)"
   ]
  },
  {
   "cell_type": "markdown",
   "id": "engaged-sword",
   "metadata": {},
   "source": [
    "As you can see. Previously the r2 value was 0.65 and after ridge ridge regression now its 0.71"
   ]
  },
  {
   "cell_type": "code",
   "execution_count": 88,
   "id": "armed-period",
   "metadata": {},
   "outputs": [
    {
     "data": {
      "text/plain": [
       "<seaborn.axisgrid.JointGrid at 0x272b04a6970>"
      ]
     },
     "execution_count": 88,
     "metadata": {},
     "output_type": "execute_result"
    },
    {
     "data": {
      "image/png": "[encoded data removed]",
      "text/plain": [
       "<Figure size 432x432 with 3 Axes>"
      ]
     },
     "metadata": {
      "needs_background": "light"
     },
     "output_type": "display_data"
    }
   ],
   "source": [
    "sns.jointplot(x=np.log(param_range), y=test_mean)"
   ]
  },
  {
   "cell_type": "code",
   "execution_count": 90,
   "id": "specific-blues",
   "metadata": {},
   "outputs": [
    {
     "data": {
      "text/plain": [
       "(array([34], dtype=int64),)"
      ]
     },
     "execution_count": 90,
     "metadata": {},
     "output_type": "execute_result"
    }
   ],
   "source": [
    "np.where(test_mean==max(test_mean))"
   ]
  },
  {
   "cell_type": "code",
   "execution_count": 92,
   "id": "worthy-cuisine",
   "metadata": {},
   "outputs": [
    {
     "data": {
      "text/plain": [
       "27.1858824273294"
      ]
     },
     "execution_count": 92,
     "metadata": {},
     "output_type": "execute_result"
    }
   ],
   "source": [
    "param_range[34]"
   ]
  },
  {
   "cell_type": "code",
   "execution_count": 93,
   "id": "exclusive-manchester",
   "metadata": {},
   "outputs": [],
   "source": [
    "lm_r_best = Ridge(alpha=param_range[34])"
   ]
  },
  {
   "cell_type": "code",
   "execution_count": 94,
   "id": "amber-pottery",
   "metadata": {},
   "outputs": [
    {
     "data": {
      "text/plain": [
       "Ridge(alpha=27.1858824273294)"
      ]
     },
     "execution_count": 94,
     "metadata": {},
     "output_type": "execute_result"
    }
   ],
   "source": [
    "lm_r_best.fit(X_train_s, y_train)"
   ]
  },
  {
   "cell_type": "code",
   "execution_count": 95,
   "id": "filled-reason",
   "metadata": {},
   "outputs": [
    {
     "data": {
      "text/plain": [
       "0.6432244865064471"
      ]
     },
     "execution_count": 95,
     "metadata": {},
     "output_type": "execute_result"
    }
   ],
   "source": [
    "r2_score(y_test, lm_r_best.predict(X_test_s))"
   ]
  },
  {
   "cell_type": "code",
   "execution_count": 96,
   "id": "compliant-electric",
   "metadata": {},
   "outputs": [
    {
     "data": {
      "text/plain": [
       "0.7413592151471124"
      ]
     },
     "execution_count": 96,
     "metadata": {},
     "output_type": "execute_result"
    }
   ],
   "source": [
    "r2_score(y_train, lm_r_best.predict(X_train_s))"
   ]
  },
  {
   "cell_type": "markdown",
   "id": "sweet-hungarian",
   "metadata": {},
   "source": [
    "Since this data set is comparatively small and and the no of independent variables is also comparatively smaller this change gets quite significant when we have dataset with observation is order of 1000s and variables in order of 100s"
   ]
  },
  {
   "cell_type": "markdown",
   "id": "sapphire-sending",
   "metadata": {},
   "source": [
    "Runnig Lasso is exact same as Ridge just replace ridge with lasso"
   ]
  },
  {
   "cell_type": "code",
   "execution_count": null,
   "id": "viral-africa",
   "metadata": {},
   "outputs": [],
   "source": []
  }
 ],
 "metadata": {
  "kernelspec": {
   "display_name": "Python 3",
   "language": "python",
   "name": "python3"
  },
  "language_info": {
   "codemirror_mode": {
    "name": "ipython",
    "version": 3
   },
   "file_extension": ".py",
   "mimetype": "text/x-python",
   "name": "python",
   "nbconvert_exporter": "python",
   "pygments_lexer": "ipython3",
   "version": "3.8.5"
  }
 },
 "nbformat": 4,
 "nbformat_minor": 5
}
